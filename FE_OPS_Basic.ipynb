{
 "cells": [
  {
   "cell_type": "markdown",
   "id": "b9ffc44e-73aa-4e4c-af67-4ea5d984b17b",
   "metadata": {},
   "source": [
    "# FEATURE ENGINEERING OPERATIONS - {\"BLACK FRIDAY SALES\" DATASET}"
   ]
  },
  {
   "cell_type": "markdown",
   "id": "98890933-c37a-4aec-9399-f3c4c1b9c430",
   "metadata": {},
   "source": [
    "## 1. Importing Modules"
   ]
  },
  {
   "cell_type": "code",
   "execution_count": 1,
   "id": "4cc6975f-c6ab-4f12-a8af-57a65fbdb156",
   "metadata": {
    "tags": []
   },
   "outputs": [],
   "source": [
    "import numpy as np\n",
    "import pandas as pd\n",
    "\n",
    "import matplotlib.pyplot as plt\n",
    "import seaborn as sb\n",
    "\n",
    "from sklearn.compose import ColumnTransformer\n",
    "\n",
    "from sklearn.preprocessing import PowerTransformer, FunctionTransformer\n",
    "\n",
    "from sklearn.preprocessing import OrdinalEncoder\n",
    "from sklearn.preprocessing import OneHotEncoder\n",
    "\n",
    "from sklearn.feature_selection import SelectKBest, mutual_info_regression\n",
    "\n",
    "from sklearn.pipeline import Pipeline"
   ]
  },
  {
   "cell_type": "code",
   "execution_count": 2,
   "id": "c7a4dfaa-ad66-425c-b73a-f54106f123d5",
   "metadata": {
    "tags": []
   },
   "outputs": [],
   "source": [
    "# PD Options\n",
    "\n",
    "pd.set_option('display.min_rows', 5)\n",
    "pd.set_option('display.max_rows', 25)\n",
    "pd.set_option('display.precision', 4)"
   ]
  },
  {
   "cell_type": "code",
   "execution_count": 3,
   "id": "4acb7ea2-88bc-4518-94ec-db90ffe45efd",
   "metadata": {
    "tags": []
   },
   "outputs": [],
   "source": [
    "# SB Options\n",
    "\n",
    "sb.set_theme(context='notebook', style='whitegrid', palette='pastel', font='times new roman', font_scale=1.25)"
   ]
  },
  {
   "cell_type": "markdown",
   "id": "8dca498c-4d30-4453-9172-cc6e6a11a6ea",
   "metadata": {},
   "source": [
    "## 2. Importing Dataset"
   ]
  },
  {
   "cell_type": "markdown",
   "id": "601a5062-57bd-4821-83c9-bc2eee0af7bd",
   "metadata": {
    "tags": []
   },
   "source": [
    "### 2.1 Train Dataset"
   ]
  },
  {
   "cell_type": "code",
   "execution_count": 4,
   "id": "a68abcc6-9749-4ef1-958d-1440055e6eca",
   "metadata": {
    "tags": []
   },
   "outputs": [
    {
     "name": "stdout",
     "output_type": "stream",
     "text": [
      "Shape of the train dataset : (549868, 12)\n"
     ]
    },
    {
     "data": {
      "text/html": [
       "<div>\n",
       "<style scoped>\n",
       "    .dataframe tbody tr th:only-of-type {\n",
       "        vertical-align: middle;\n",
       "    }\n",
       "\n",
       "    .dataframe tbody tr th {\n",
       "        vertical-align: top;\n",
       "    }\n",
       "\n",
       "    .dataframe thead th {\n",
       "        text-align: right;\n",
       "    }\n",
       "</style>\n",
       "<table border=\"1\" class=\"dataframe\">\n",
       "  <thead>\n",
       "    <tr style=\"text-align: right;\">\n",
       "      <th></th>\n",
       "      <th>User_ID</th>\n",
       "      <th>Product_ID</th>\n",
       "      <th>Gender</th>\n",
       "      <th>Age</th>\n",
       "      <th>Occupation</th>\n",
       "      <th>City_Category</th>\n",
       "      <th>Stay_In_Current_City_Years</th>\n",
       "      <th>Marital_Status</th>\n",
       "      <th>Product_Category_1</th>\n",
       "      <th>Product_Category_2</th>\n",
       "      <th>Product_Category_3</th>\n",
       "      <th>Purchase</th>\n",
       "    </tr>\n",
       "  </thead>\n",
       "  <tbody>\n",
       "    <tr>\n",
       "      <th>94454</th>\n",
       "      <td>1002589</td>\n",
       "      <td>P00296042</td>\n",
       "      <td>M</td>\n",
       "      <td>26-35</td>\n",
       "      <td>0</td>\n",
       "      <td>C</td>\n",
       "      <td>3</td>\n",
       "      <td>0</td>\n",
       "      <td>8</td>\n",
       "      <td>13</td>\n",
       "      <td>16</td>\n",
       "      <td>5820</td>\n",
       "    </tr>\n",
       "    <tr>\n",
       "      <th>6914</th>\n",
       "      <td>1001101</td>\n",
       "      <td>P00251842</td>\n",
       "      <td>M</td>\n",
       "      <td>36-45</td>\n",
       "      <td>1</td>\n",
       "      <td>A</td>\n",
       "      <td>1</td>\n",
       "      <td>0</td>\n",
       "      <td>1</td>\n",
       "      <td>15</td>\n",
       "      <td>16</td>\n",
       "      <td>11715</td>\n",
       "    </tr>\n",
       "    <tr>\n",
       "      <th>167574</th>\n",
       "      <td>1001861</td>\n",
       "      <td>P00154642</td>\n",
       "      <td>M</td>\n",
       "      <td>51-55</td>\n",
       "      <td>16</td>\n",
       "      <td>A</td>\n",
       "      <td>1</td>\n",
       "      <td>1</td>\n",
       "      <td>8</td>\n",
       "      <td>14</td>\n",
       "      <td>17</td>\n",
       "      <td>8075</td>\n",
       "    </tr>\n",
       "    <tr>\n",
       "      <th>323135</th>\n",
       "      <td>1001746</td>\n",
       "      <td>P00251842</td>\n",
       "      <td>M</td>\n",
       "      <td>26-35</td>\n",
       "      <td>4</td>\n",
       "      <td>C</td>\n",
       "      <td>1</td>\n",
       "      <td>1</td>\n",
       "      <td>1</td>\n",
       "      <td>15</td>\n",
       "      <td>16</td>\n",
       "      <td>4336</td>\n",
       "    </tr>\n",
       "    <tr>\n",
       "      <th>31253</th>\n",
       "      <td>1004786</td>\n",
       "      <td>P00025942</td>\n",
       "      <td>M</td>\n",
       "      <td>46-50</td>\n",
       "      <td>6</td>\n",
       "      <td>B</td>\n",
       "      <td>1</td>\n",
       "      <td>1</td>\n",
       "      <td>8</td>\n",
       "      <td>14</td>\n",
       "      <td>17</td>\n",
       "      <td>10057</td>\n",
       "    </tr>\n",
       "  </tbody>\n",
       "</table>\n",
       "</div>"
      ],
      "text/plain": [
       "        User_ID Product_ID Gender    Age Occupation City_Category  \\\n",
       "94454   1002589  P00296042      M  26-35          0             C   \n",
       "6914    1001101  P00251842      M  36-45          1             A   \n",
       "167574  1001861  P00154642      M  51-55         16             A   \n",
       "323135  1001746  P00251842      M  26-35          4             C   \n",
       "31253   1004786  P00025942      M  46-50          6             B   \n",
       "\n",
       "       Stay_In_Current_City_Years Marital_Status Product_Category_1  \\\n",
       "94454                           3              0                  8   \n",
       "6914                            1              0                  1   \n",
       "167574                          1              1                  8   \n",
       "323135                          1              1                  1   \n",
       "31253                           1              1                  8   \n",
       "\n",
       "       Product_Category_2 Product_Category_3  Purchase  \n",
       "94454                  13                 16      5820  \n",
       "6914                   15                 16     11715  \n",
       "167574                 14                 17      8075  \n",
       "323135                 15                 16      4336  \n",
       "31253                  14                 17     10057  "
      ]
     },
     "execution_count": 4,
     "metadata": {},
     "output_type": "execute_result"
    }
   ],
   "source": [
    "tr = pd.read_pickle('bfs_train_pp.pkl')\n",
    "\n",
    "print(f'Shape of the train dataset : {tr.shape}')\n",
    "tr.head(5)"
   ]
  },
  {
   "cell_type": "code",
   "execution_count": 5,
   "id": "5dd64afe-c911-445e-b370-8e303220ffee",
   "metadata": {
    "tags": []
   },
   "outputs": [],
   "source": [
    "Xtr = tr.drop(columns='Purchase')"
   ]
  },
  {
   "cell_type": "markdown",
   "id": "80837ab7-022f-4d04-a229-6975a1375a7d",
   "metadata": {},
   "source": [
    "## 3. Feature Engineering Process"
   ]
  },
  {
   "cell_type": "markdown",
   "id": "64c191e2-315a-45b8-9a3d-dea62af9ef09",
   "metadata": {},
   "source": [
    "### 3.1 Target Variable Transformation"
   ]
  },
  {
   "cell_type": "code",
   "execution_count": 6,
   "id": "7de80f2e-b71e-4244-9e51-f55f7cb927ee",
   "metadata": {
    "tags": []
   },
   "outputs": [
    {
     "name": "stdout",
     "output_type": "stream",
     "text": [
      "Skew of Target Feature : 0.6001\n"
     ]
    },
    {
     "data": {
      "text/plain": [
       "count    549868.0000\n",
       "mean       9263.9454\n",
       "std        5023.0486\n",
       "min          12.0000\n",
       "25%        5823.0000\n",
       "50%        8047.0000\n",
       "75%       12054.0000\n",
       "max       23961.0000\n",
       "Name: Purchase, dtype: float64"
      ]
     },
     "execution_count": 6,
     "metadata": {},
     "output_type": "execute_result"
    }
   ],
   "source": [
    "print(f\"Skew of Target Feature : {tr['Purchase'].skew():0.4f}\")\n",
    "tr['Purchase'].describe()"
   ]
  },
  {
   "cell_type": "code",
   "execution_count": 7,
   "id": "6c596e80-b137-4d6b-b46d-2c28799459c8",
   "metadata": {
    "tags": []
   },
   "outputs": [
    {
     "data": {
      "text/plain": [
       "<Axes: xlabel='Purchase', ylabel='Density'>"
      ]
     },
     "execution_count": 7,
     "metadata": {},
     "output_type": "execute_result"
    },
    {
     "data": {
      "image/png": "[encoded data removed]",
      "text/plain": [
       "<Figure size 640x480 with 1 Axes>"
      ]
     },
     "metadata": {},
     "output_type": "display_data"
    }
   ],
   "source": [
    "sb.kdeplot(tr, x='Purchase')"
   ]
  },
  {
   "cell_type": "code",
   "execution_count": 8,
   "id": "980d96a8-d1fd-49cb-a417-4fda6ed62706",
   "metadata": {
    "tags": []
   },
   "outputs": [
    {
     "name": "stdout",
     "output_type": "stream",
     "text": [
      "Transformed \"Purchase\" feature values: \n",
      "94454    -0.6056\n",
      "6914      0.5769\n",
      "167574   -0.1090\n",
      "323135   -0.9810\n",
      "31253     0.2784\n",
      "Name: ptpur, dtype: float64\n",
      "\n",
      " Skew of the original and transformed values : \n",
      "Purchase    0.6001\n",
      "ptpur      -0.0297\n",
      "dtype: float64\n",
      "\n",
      " Original, Transformed, and Inverse Transformed values: \n",
      "        Purchase   ptpur   ptipur\n",
      "94454       5820 -0.6056   5820.0\n",
      "6914       11715  0.5769  11715.0\n",
      "167574      8075 -0.1090   8075.0\n",
      "323135      4336 -0.9810   4336.0\n",
      "31253      10057  0.2784  10057.0\n"
     ]
    },
    {
     "data": {
      "text/plain": [
       "<Axes: xlabel='ptpur', ylabel='Density'>"
      ]
     },
     "execution_count": 8,
     "metadata": {},
     "output_type": "execute_result"
    },
    {
     "data": {
      "image/png": "[encoded data removed]",
      "text/plain": [
       "<Figure size 640x480 with 1 Axes>"
      ]
     },
     "metadata": {},
     "output_type": "display_data"
    }
   ],
   "source": [
    "pt = PowerTransformer()\n",
    "tr['ptpur'] = pt.fit_transform(tr['Purchase'].values.reshape(-1,1))\n",
    "print(f'Transformed \"Purchase\" feature values: ')\n",
    "print(tr['ptpur'].head())\n",
    "\n",
    "print(f'\\n Skew of the original and transformed values : ')\n",
    "print(tr[['Purchase','ptpur']].skew())\n",
    "\n",
    "tr['ptipur'] = pt.inverse_transform(tr['ptpur'].values.reshape(-1,1))\n",
    "print(f'\\n Original, Transformed, and Inverse Transformed values: ')\n",
    "print(tr[['Purchase','ptpur','ptipur']].head())\n",
    "sb.kdeplot(tr, x='ptpur')"
   ]
  },
  {
   "cell_type": "code",
   "execution_count": 9,
   "id": "f5f31637-e2bd-4653-b999-20b9c4f294b0",
   "metadata": {
    "tags": []
   },
   "outputs": [
    {
     "data": {
      "text/plain": [
       "array([-0.6056246])"
      ]
     },
     "execution_count": 9,
     "metadata": {},
     "output_type": "execute_result"
    }
   ],
   "source": [
    "ytr = tr['ptpur'].values\n",
    "ytr[:1]"
   ]
  },
  {
   "cell_type": "markdown",
   "id": "f1a9a6dd-e1e3-4d6b-a78b-b241a2ee9b7c",
   "metadata": {},
   "source": [
    "### 3.2 Categorical Feature Transformation\n",
    "#### 1. Feature Removal\n",
    "#### 2. Ordinal Encoding\n",
    "#### 3. OneHot Encoding"
   ]
  },
  {
   "cell_type": "code",
   "execution_count": 10,
   "id": "b3d50a8d-1ead-454a-8152-cf5e169aa508",
   "metadata": {
    "tags": []
   },
   "outputs": [],
   "source": [
    "def rem_cols(ds):\n",
    "    cols = ['User_ID','Product_ID']\n",
    "    ds = ds.drop(columns=cols)\n",
    "    \n",
    "    return ds"
   ]
  },
  {
   "cell_type": "code",
   "execution_count": 11,
   "id": "8c639e62-f684-4f51-b574-ce0593068ae8",
   "metadata": {
    "tags": []
   },
   "outputs": [
    {
     "data": {
      "text/html": [
       "<div>\n",
       "<style scoped>\n",
       "    .dataframe tbody tr th:only-of-type {\n",
       "        vertical-align: middle;\n",
       "    }\n",
       "\n",
       "    .dataframe tbody tr th {\n",
       "        vertical-align: top;\n",
       "    }\n",
       "\n",
       "    .dataframe thead th {\n",
       "        text-align: right;\n",
       "    }\n",
       "</style>\n",
       "<table border=\"1\" class=\"dataframe\">\n",
       "  <thead>\n",
       "    <tr style=\"text-align: right;\">\n",
       "      <th></th>\n",
       "      <th>User_ID</th>\n",
       "      <th>Product_ID</th>\n",
       "      <th>Gender</th>\n",
       "      <th>Age</th>\n",
       "      <th>Occupation</th>\n",
       "      <th>City_Category</th>\n",
       "      <th>Stay_In_Current_City_Years</th>\n",
       "      <th>Marital_Status</th>\n",
       "      <th>Product_Category_1</th>\n",
       "      <th>Product_Category_2</th>\n",
       "      <th>Product_Category_3</th>\n",
       "    </tr>\n",
       "  </thead>\n",
       "  <tbody>\n",
       "    <tr>\n",
       "      <th>94454</th>\n",
       "      <td>1002589</td>\n",
       "      <td>P00296042</td>\n",
       "      <td>M</td>\n",
       "      <td>26-35</td>\n",
       "      <td>0</td>\n",
       "      <td>C</td>\n",
       "      <td>3</td>\n",
       "      <td>0</td>\n",
       "      <td>8</td>\n",
       "      <td>13</td>\n",
       "      <td>16</td>\n",
       "    </tr>\n",
       "    <tr>\n",
       "      <th>6914</th>\n",
       "      <td>1001101</td>\n",
       "      <td>P00251842</td>\n",
       "      <td>M</td>\n",
       "      <td>36-45</td>\n",
       "      <td>1</td>\n",
       "      <td>A</td>\n",
       "      <td>1</td>\n",
       "      <td>0</td>\n",
       "      <td>1</td>\n",
       "      <td>15</td>\n",
       "      <td>16</td>\n",
       "    </tr>\n",
       "    <tr>\n",
       "      <th>167574</th>\n",
       "      <td>1001861</td>\n",
       "      <td>P00154642</td>\n",
       "      <td>M</td>\n",
       "      <td>51-55</td>\n",
       "      <td>16</td>\n",
       "      <td>A</td>\n",
       "      <td>1</td>\n",
       "      <td>1</td>\n",
       "      <td>8</td>\n",
       "      <td>14</td>\n",
       "      <td>17</td>\n",
       "    </tr>\n",
       "    <tr>\n",
       "      <th>323135</th>\n",
       "      <td>1001746</td>\n",
       "      <td>P00251842</td>\n",
       "      <td>M</td>\n",
       "      <td>26-35</td>\n",
       "      <td>4</td>\n",
       "      <td>C</td>\n",
       "      <td>1</td>\n",
       "      <td>1</td>\n",
       "      <td>1</td>\n",
       "      <td>15</td>\n",
       "      <td>16</td>\n",
       "    </tr>\n",
       "    <tr>\n",
       "      <th>31253</th>\n",
       "      <td>1004786</td>\n",
       "      <td>P00025942</td>\n",
       "      <td>M</td>\n",
       "      <td>46-50</td>\n",
       "      <td>6</td>\n",
       "      <td>B</td>\n",
       "      <td>1</td>\n",
       "      <td>1</td>\n",
       "      <td>8</td>\n",
       "      <td>14</td>\n",
       "      <td>17</td>\n",
       "    </tr>\n",
       "  </tbody>\n",
       "</table>\n",
       "</div>"
      ],
      "text/plain": [
       "        User_ID Product_ID Gender    Age Occupation City_Category  \\\n",
       "94454   1002589  P00296042      M  26-35          0             C   \n",
       "6914    1001101  P00251842      M  36-45          1             A   \n",
       "167574  1001861  P00154642      M  51-55         16             A   \n",
       "323135  1001746  P00251842      M  26-35          4             C   \n",
       "31253   1004786  P00025942      M  46-50          6             B   \n",
       "\n",
       "       Stay_In_Current_City_Years Marital_Status Product_Category_1  \\\n",
       "94454                           3              0                  8   \n",
       "6914                            1              0                  1   \n",
       "167574                          1              1                  8   \n",
       "323135                          1              1                  1   \n",
       "31253                           1              1                  8   \n",
       "\n",
       "       Product_Category_2 Product_Category_3  \n",
       "94454                  13                 16  \n",
       "6914                   15                 16  \n",
       "167574                 14                 17  \n",
       "323135                 15                 16  \n",
       "31253                  14                 17  "
      ]
     },
     "execution_count": 11,
     "metadata": {},
     "output_type": "execute_result"
    }
   ],
   "source": [
    "Xtr.head()"
   ]
  },
  {
   "cell_type": "code",
   "execution_count": 12,
   "id": "46e83134-fd8d-478b-b4d4-510af0596514",
   "metadata": {
    "tags": []
   },
   "outputs": [],
   "source": [
    "pre_proc_cat = ColumnTransformer(transformers=[\n",
    "                ('ft',FunctionTransformer(rem_cols),[0,1]),\n",
    "                ('oe',OrdinalEncoder(categories=[['0-17','18-25','26-35','36-45','46-50','51-55','55+'],\n",
    "                                ['A','B','C'],\n",
    "                                ['0','1','2','3','4+']],dtype='int'),[3,5,6]),\n",
    "                ('ohe',OneHotEncoder(drop='first', handle_unknown='ignore', sparse_output=False, dtype='int8'),[2,4,7,8,9,10]),\n",
    "                ],\n",
    "                remainder='passthrough')"
   ]
  },
  {
   "cell_type": "code",
   "execution_count": 13,
   "id": "dc47112a-45c6-4cf4-88f2-9862db30a1b6",
   "metadata": {
    "tags": []
   },
   "outputs": [
    {
     "name": "stdout",
     "output_type": "stream",
     "text": [
      "(549868, 74)\n"
     ]
    },
    {
     "data": {
      "text/plain": [
       "array([[2., 2., 3., 1., 0., 0., 0., 0., 0., 0., 0., 0., 0., 0., 0., 0.,\n",
       "        0., 0., 0., 0., 0., 0., 0., 0., 0., 0., 0., 0., 0., 0., 0., 1.,\n",
       "        0., 0., 0., 0., 0., 0., 0., 0., 0., 0., 0., 0., 0., 0., 0., 0.,\n",
       "        0., 0., 0., 0., 0., 0., 1., 0., 0., 0., 0., 0., 0., 0., 0., 0.,\n",
       "        0., 0., 0., 0., 0., 0., 0., 1., 0., 0.]])"
      ]
     },
     "execution_count": 13,
     "metadata": {},
     "output_type": "execute_result"
    }
   ],
   "source": [
    "res_cat = pre_proc_cat.fit_transform(Xtr)\n",
    "print(res_cat.shape)\n",
    "res_cat[:1]"
   ]
  },
  {
   "cell_type": "markdown",
   "id": "81905af3-a85f-4c7c-85e3-aa894960c693",
   "metadata": {},
   "source": [
    "### 3.3 Feature Selection"
   ]
  },
  {
   "cell_type": "code",
   "execution_count": 14,
   "id": "f99d77ef-97a4-4dc4-82e2-e5e8a2d98de5",
   "metadata": {},
   "outputs": [],
   "source": [
    "# fea_select = SelectKBest(mutual_info_regression, k=10)\n",
    "# Xtr_trans = fea_select.fit_transform(res_cat, ytr)\n",
    "\n",
    "# print(Xtr_trans.shape)\n",
    "# Xtr_trans[:1]"
   ]
  },
  {
   "cell_type": "code",
   "execution_count": null,
   "id": "45ef25c6-db5c-4b28-9856-889d6181b6f4",
   "metadata": {},
   "outputs": [],
   "source": []
  }
 ],
 "metadata": {
  "kernelspec": {
   "display_name": "Python 3 (ipykernel)",
   "language": "python",
   "name": "python3"
  },
  "language_info": {
   "codemirror_mode": {
    "name": "ipython",
    "version": 3
   },
   "file_extension": ".py",
   "mimetype": "text/x-python",
   "name": "python",
   "nbconvert_exporter": "python",
   "pygments_lexer": "ipython3",
   "version": "3.10.10"
  }
 },
 "nbformat": 4,
 "nbformat_minor": 5
}
