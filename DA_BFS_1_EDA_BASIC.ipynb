{
 "cells": [
  {
   "cell_type": "markdown",
   "id": "ffff472f-5c43-4055-bf3e-0a46b076c6b8",
   "metadata": {},
   "source": [
    "# BASIC EDA - {\"BLACK FRIDAY SALES\" DATASET} "
   ]
  },
  {
   "cell_type": "markdown",
   "id": "80eb321a-891e-4e06-b059-16adabdcd094",
   "metadata": {},
   "source": [
    "## 1. Import Modules and Configuration Settings"
   ]
  },
  {
   "cell_type": "code",
   "execution_count": 1,
   "id": "1ee589eb-3303-4edb-bea4-be4291cb7c96",
   "metadata": {},
   "outputs": [],
   "source": [
    "import warnings\n",
    "warnings.filterwarnings('ignore')\n",
    "\n",
    "import numpy as np\n",
    "import pandas as pd"
   ]
  },
  {
   "cell_type": "code",
   "execution_count": 2,
   "id": "f4e179ea-7edd-4629-9d8d-94a81acc566d",
   "metadata": {},
   "outputs": [],
   "source": [
    "# PD Options\n",
    "\n",
    "pd.set_option('display.min_rows', 5)\n",
    "pd.set_option('display.max_rows', 25)\n",
    "pd.set_option('display.precision', 4)"
   ]
  },
  {
   "cell_type": "markdown",
   "id": "a29dba6a-830e-4d0f-acf8-1f5bd2d1c3ba",
   "metadata": {},
   "source": [
    "## 2. Import Dataset"
   ]
  },
  {
   "cell_type": "code",
   "execution_count": 3,
   "id": "4eba44df-5698-4719-af96-3e055155ed65",
   "metadata": {},
   "outputs": [],
   "source": [
    "data = pd.read_csv('bfs_train.csv')\n",
    "df = data.copy()"
   ]
  },
  {
   "cell_type": "markdown",
   "id": "1e69e2a2-6400-4c48-a354-d742879ccd92",
   "metadata": {},
   "source": [
    "## 3. Basic EDA"
   ]
  },
  {
   "cell_type": "markdown",
   "id": "d3016b26-5ea0-44da-be39-bad1500ec49d",
   "metadata": {},
   "source": [
    "### 3.1 Sample of the Dataset"
   ]
  },
  {
   "cell_type": "code",
   "execution_count": 4,
   "id": "a1730c37-5687-46fd-8cce-2b656bd00733",
   "metadata": {},
   "outputs": [
    {
     "data": {
      "text/html": [
       "<div>\n",
       "<style scoped>\n",
       "    .dataframe tbody tr th:only-of-type {\n",
       "        vertical-align: middle;\n",
       "    }\n",
       "\n",
       "    .dataframe tbody tr th {\n",
       "        vertical-align: top;\n",
       "    }\n",
       "\n",
       "    .dataframe thead th {\n",
       "        text-align: right;\n",
       "    }\n",
       "</style>\n",
       "<table border=\"1\" class=\"dataframe\">\n",
       "  <thead>\n",
       "    <tr style=\"text-align: right;\">\n",
       "      <th></th>\n",
       "      <th>User_ID</th>\n",
       "      <th>Product_ID</th>\n",
       "      <th>Gender</th>\n",
       "      <th>Age</th>\n",
       "      <th>Occupation</th>\n",
       "      <th>City_Category</th>\n",
       "      <th>Stay_In_Current_City_Years</th>\n",
       "      <th>Marital_Status</th>\n",
       "      <th>Product_Category_1</th>\n",
       "      <th>Product_Category_2</th>\n",
       "      <th>Product_Category_3</th>\n",
       "      <th>Purchase</th>\n",
       "    </tr>\n",
       "  </thead>\n",
       "  <tbody>\n",
       "    <tr>\n",
       "      <th>101425</th>\n",
       "      <td>1003685</td>\n",
       "      <td>P00041842</td>\n",
       "      <td>M</td>\n",
       "      <td>26-35</td>\n",
       "      <td>5</td>\n",
       "      <td>C</td>\n",
       "      <td>1</td>\n",
       "      <td>1</td>\n",
       "      <td>6</td>\n",
       "      <td>8.0</td>\n",
       "      <td>NaN</td>\n",
       "      <td>12420</td>\n",
       "    </tr>\n",
       "    <tr>\n",
       "      <th>505991</th>\n",
       "      <td>1005952</td>\n",
       "      <td>P00128042</td>\n",
       "      <td>F</td>\n",
       "      <td>46-50</td>\n",
       "      <td>1</td>\n",
       "      <td>C</td>\n",
       "      <td>4+</td>\n",
       "      <td>1</td>\n",
       "      <td>1</td>\n",
       "      <td>5.0</td>\n",
       "      <td>18.0</td>\n",
       "      <td>15617</td>\n",
       "    </tr>\n",
       "    <tr>\n",
       "      <th>374683</th>\n",
       "      <td>1003690</td>\n",
       "      <td>P00300642</td>\n",
       "      <td>M</td>\n",
       "      <td>18-25</td>\n",
       "      <td>0</td>\n",
       "      <td>B</td>\n",
       "      <td>2</td>\n",
       "      <td>0</td>\n",
       "      <td>5</td>\n",
       "      <td>14.0</td>\n",
       "      <td>NaN</td>\n",
       "      <td>3539</td>\n",
       "    </tr>\n",
       "    <tr>\n",
       "      <th>139055</th>\n",
       "      <td>1003504</td>\n",
       "      <td>P00357442</td>\n",
       "      <td>M</td>\n",
       "      <td>18-25</td>\n",
       "      <td>7</td>\n",
       "      <td>B</td>\n",
       "      <td>1</td>\n",
       "      <td>0</td>\n",
       "      <td>5</td>\n",
       "      <td>8.0</td>\n",
       "      <td>NaN</td>\n",
       "      <td>5144</td>\n",
       "    </tr>\n",
       "    <tr>\n",
       "      <th>96524</th>\n",
       "      <td>1002951</td>\n",
       "      <td>P00032842</td>\n",
       "      <td>F</td>\n",
       "      <td>36-45</td>\n",
       "      <td>14</td>\n",
       "      <td>B</td>\n",
       "      <td>0</td>\n",
       "      <td>1</td>\n",
       "      <td>8</td>\n",
       "      <td>NaN</td>\n",
       "      <td>NaN</td>\n",
       "      <td>9795</td>\n",
       "    </tr>\n",
       "  </tbody>\n",
       "</table>\n",
       "</div>"
      ],
      "text/plain": [
       "        User_ID Product_ID Gender    Age  Occupation City_Category  \\\n",
       "101425  1003685  P00041842      M  26-35           5             C   \n",
       "505991  1005952  P00128042      F  46-50           1             C   \n",
       "374683  1003690  P00300642      M  18-25           0             B   \n",
       "139055  1003504  P00357442      M  18-25           7             B   \n",
       "96524   1002951  P00032842      F  36-45          14             B   \n",
       "\n",
       "       Stay_In_Current_City_Years  Marital_Status  Product_Category_1  \\\n",
       "101425                          1               1                   6   \n",
       "505991                         4+               1                   1   \n",
       "374683                          2               0                   5   \n",
       "139055                          1               0                   5   \n",
       "96524                           0               1                   8   \n",
       "\n",
       "        Product_Category_2  Product_Category_3  Purchase  \n",
       "101425                 8.0                 NaN     12420  \n",
       "505991                 5.0                18.0     15617  \n",
       "374683                14.0                 NaN      3539  \n",
       "139055                 8.0                 NaN      5144  \n",
       "96524                  NaN                 NaN      9795  "
      ]
     },
     "execution_count": 4,
     "metadata": {},
     "output_type": "execute_result"
    }
   ],
   "source": [
    "df.sample(5)"
   ]
  },
  {
   "cell_type": "markdown",
   "id": "e4bd81aa-aef6-4a3a-99bd-93d62c4ccf3a",
   "metadata": {},
   "source": [
    "### 3.2 Shape of the Dataset"
   ]
  },
  {
   "cell_type": "code",
   "execution_count": 5,
   "id": "32b769d3-634b-4c84-b502-7a7c4e5c7ab7",
   "metadata": {},
   "outputs": [
    {
     "name": "stdout",
     "output_type": "stream",
     "text": [
      "No. of Observations (rows) : 550068\n",
      "No. of Features (columns)  : 12\n"
     ]
    }
   ],
   "source": [
    "print(f'No. of Observations (rows) : {df.shape[0]}')\n",
    "print(f'No. of Features (columns)  : {df.shape[1]}')"
   ]
  },
  {
   "cell_type": "markdown",
   "id": "2855e902-5f7d-4388-886b-17b16226253b",
   "metadata": {},
   "source": [
    "### 3.3 Dataset Information"
   ]
  },
  {
   "cell_type": "code",
   "execution_count": 6,
   "id": "d955ce84-9cbc-4947-9b09-d07ab2405e41",
   "metadata": {},
   "outputs": [
    {
     "name": "stdout",
     "output_type": "stream",
     "text": [
      "<class 'pandas.core.frame.DataFrame'>\n",
      "RangeIndex: 550068 entries, 0 to 550067\n",
      "Data columns (total 12 columns):\n",
      " #   Column                      Non-Null Count   Dtype  \n",
      "---  ------                      --------------   -----  \n",
      " 0   User_ID                     550068 non-null  int64  \n",
      " 1   Product_ID                  550068 non-null  object \n",
      " 2   Gender                      550068 non-null  object \n",
      " 3   Age                         550068 non-null  object \n",
      " 4   Occupation                  550068 non-null  int64  \n",
      " 5   City_Category               550068 non-null  object \n",
      " 6   Stay_In_Current_City_Years  550068 non-null  object \n",
      " 7   Marital_Status              550068 non-null  int64  \n",
      " 8   Product_Category_1          550068 non-null  int64  \n",
      " 9   Product_Category_2          376430 non-null  float64\n",
      " 10  Product_Category_3          166821 non-null  float64\n",
      " 11  Purchase                    550068 non-null  int64  \n",
      "dtypes: float64(2), int64(5), object(5)\n",
      "memory usage: 50.4+ MB\n"
     ]
    }
   ],
   "source": [
    "df.info()"
   ]
  },
  {
   "cell_type": "markdown",
   "id": "ce1a2e48-5618-4861-90c7-db1789714e39",
   "metadata": {},
   "source": [
    "### 3.4 Checking Any Missing Values in the Dataset"
   ]
  },
  {
   "cell_type": "code",
   "execution_count": 7,
   "id": "3b4a8f76-4822-4ce6-94e0-11cf1f1ddb3f",
   "metadata": {},
   "outputs": [
    {
     "data": {
      "text/html": [
       "<div>\n",
       "<style scoped>\n",
       "    .dataframe tbody tr th:only-of-type {\n",
       "        vertical-align: middle;\n",
       "    }\n",
       "\n",
       "    .dataframe tbody tr th {\n",
       "        vertical-align: top;\n",
       "    }\n",
       "\n",
       "    .dataframe thead th {\n",
       "        text-align: right;\n",
       "    }\n",
       "</style>\n",
       "<table border=\"1\" class=\"dataframe\">\n",
       "  <thead>\n",
       "    <tr style=\"text-align: right;\">\n",
       "      <th></th>\n",
       "      <th>Features</th>\n",
       "      <th>Missing Count</th>\n",
       "      <th>Missing PCT</th>\n",
       "    </tr>\n",
       "  </thead>\n",
       "  <tbody>\n",
       "    <tr>\n",
       "      <th>0</th>\n",
       "      <td>User_ID</td>\n",
       "      <td>0</td>\n",
       "      <td>0.0000</td>\n",
       "    </tr>\n",
       "    <tr>\n",
       "      <th>1</th>\n",
       "      <td>Product_ID</td>\n",
       "      <td>0</td>\n",
       "      <td>0.0000</td>\n",
       "    </tr>\n",
       "    <tr>\n",
       "      <th>2</th>\n",
       "      <td>Gender</td>\n",
       "      <td>0</td>\n",
       "      <td>0.0000</td>\n",
       "    </tr>\n",
       "    <tr>\n",
       "      <th>3</th>\n",
       "      <td>Age</td>\n",
       "      <td>0</td>\n",
       "      <td>0.0000</td>\n",
       "    </tr>\n",
       "    <tr>\n",
       "      <th>4</th>\n",
       "      <td>Occupation</td>\n",
       "      <td>0</td>\n",
       "      <td>0.0000</td>\n",
       "    </tr>\n",
       "    <tr>\n",
       "      <th>5</th>\n",
       "      <td>City_Category</td>\n",
       "      <td>0</td>\n",
       "      <td>0.0000</td>\n",
       "    </tr>\n",
       "    <tr>\n",
       "      <th>6</th>\n",
       "      <td>Stay_In_Current_City_Years</td>\n",
       "      <td>0</td>\n",
       "      <td>0.0000</td>\n",
       "    </tr>\n",
       "    <tr>\n",
       "      <th>7</th>\n",
       "      <td>Marital_Status</td>\n",
       "      <td>0</td>\n",
       "      <td>0.0000</td>\n",
       "    </tr>\n",
       "    <tr>\n",
       "      <th>8</th>\n",
       "      <td>Product_Category_1</td>\n",
       "      <td>0</td>\n",
       "      <td>0.0000</td>\n",
       "    </tr>\n",
       "    <tr>\n",
       "      <th>9</th>\n",
       "      <td>Product_Category_2</td>\n",
       "      <td>173638</td>\n",
       "      <td>31.5666</td>\n",
       "    </tr>\n",
       "    <tr>\n",
       "      <th>10</th>\n",
       "      <td>Product_Category_3</td>\n",
       "      <td>383247</td>\n",
       "      <td>69.6727</td>\n",
       "    </tr>\n",
       "    <tr>\n",
       "      <th>11</th>\n",
       "      <td>Purchase</td>\n",
       "      <td>0</td>\n",
       "      <td>0.0000</td>\n",
       "    </tr>\n",
       "  </tbody>\n",
       "</table>\n",
       "</div>"
      ],
      "text/plain": [
       "                      Features  Missing Count  Missing PCT\n",
       "0                      User_ID              0       0.0000\n",
       "1                   Product_ID              0       0.0000\n",
       "2                       Gender              0       0.0000\n",
       "3                          Age              0       0.0000\n",
       "4                   Occupation              0       0.0000\n",
       "5                City_Category              0       0.0000\n",
       "6   Stay_In_Current_City_Years              0       0.0000\n",
       "7               Marital_Status              0       0.0000\n",
       "8           Product_Category_1              0       0.0000\n",
       "9           Product_Category_2         173638      31.5666\n",
       "10          Product_Category_3         383247      69.6727\n",
       "11                    Purchase              0       0.0000"
      ]
     },
     "execution_count": 7,
     "metadata": {},
     "output_type": "execute_result"
    }
   ],
   "source": [
    "miss_cnt = df.isna().sum().reset_index().rename(columns={'index':'Features', 0:'Missing Count'})\n",
    "miss_cnt['Missing PCT'] = miss_cnt['Missing Count'].apply(lambda x: (x/df.shape[0])*100)\n",
    "miss_cnt"
   ]
  },
  {
   "cell_type": "markdown",
   "id": "d81f3896-7e71-452d-9db2-56fb58444189",
   "metadata": {},
   "source": [
    "### 3.5 Checking Unique Values for Individual Features"
   ]
  },
  {
   "cell_type": "code",
   "execution_count": 8,
   "id": "d5dbe85f-47f5-4af4-adfd-a5554e9e3c02",
   "metadata": {
    "tags": []
   },
   "outputs": [
    {
     "data": {
      "text/html": [
       "<div>\n",
       "<style scoped>\n",
       "    .dataframe tbody tr th:only-of-type {\n",
       "        vertical-align: middle;\n",
       "    }\n",
       "\n",
       "    .dataframe tbody tr th {\n",
       "        vertical-align: top;\n",
       "    }\n",
       "\n",
       "    .dataframe thead th {\n",
       "        text-align: right;\n",
       "    }\n",
       "</style>\n",
       "<table border=\"1\" class=\"dataframe\">\n",
       "  <thead>\n",
       "    <tr style=\"text-align: right;\">\n",
       "      <th></th>\n",
       "      <th>Features</th>\n",
       "      <th>Unique Values</th>\n",
       "      <th>Unique Values PCT</th>\n",
       "    </tr>\n",
       "  </thead>\n",
       "  <tbody>\n",
       "    <tr>\n",
       "      <th>0</th>\n",
       "      <td>User_ID</td>\n",
       "      <td>5891</td>\n",
       "      <td>1.0710</td>\n",
       "    </tr>\n",
       "    <tr>\n",
       "      <th>1</th>\n",
       "      <td>Product_ID</td>\n",
       "      <td>3631</td>\n",
       "      <td>0.6601</td>\n",
       "    </tr>\n",
       "    <tr>\n",
       "      <th>2</th>\n",
       "      <td>Gender</td>\n",
       "      <td>2</td>\n",
       "      <td>0.0004</td>\n",
       "    </tr>\n",
       "    <tr>\n",
       "      <th>3</th>\n",
       "      <td>Age</td>\n",
       "      <td>7</td>\n",
       "      <td>0.0013</td>\n",
       "    </tr>\n",
       "    <tr>\n",
       "      <th>4</th>\n",
       "      <td>Occupation</td>\n",
       "      <td>21</td>\n",
       "      <td>0.0038</td>\n",
       "    </tr>\n",
       "    <tr>\n",
       "      <th>5</th>\n",
       "      <td>City_Category</td>\n",
       "      <td>3</td>\n",
       "      <td>0.0005</td>\n",
       "    </tr>\n",
       "    <tr>\n",
       "      <th>6</th>\n",
       "      <td>Stay_In_Current_City_Years</td>\n",
       "      <td>5</td>\n",
       "      <td>0.0009</td>\n",
       "    </tr>\n",
       "    <tr>\n",
       "      <th>7</th>\n",
       "      <td>Marital_Status</td>\n",
       "      <td>2</td>\n",
       "      <td>0.0004</td>\n",
       "    </tr>\n",
       "    <tr>\n",
       "      <th>8</th>\n",
       "      <td>Product_Category_1</td>\n",
       "      <td>20</td>\n",
       "      <td>0.0036</td>\n",
       "    </tr>\n",
       "    <tr>\n",
       "      <th>9</th>\n",
       "      <td>Product_Category_2</td>\n",
       "      <td>17</td>\n",
       "      <td>0.0031</td>\n",
       "    </tr>\n",
       "    <tr>\n",
       "      <th>10</th>\n",
       "      <td>Product_Category_3</td>\n",
       "      <td>15</td>\n",
       "      <td>0.0027</td>\n",
       "    </tr>\n",
       "    <tr>\n",
       "      <th>11</th>\n",
       "      <td>Purchase</td>\n",
       "      <td>18105</td>\n",
       "      <td>3.2914</td>\n",
       "    </tr>\n",
       "  </tbody>\n",
       "</table>\n",
       "</div>"
      ],
      "text/plain": [
       "                      Features  Unique Values  Unique Values PCT\n",
       "0                      User_ID           5891             1.0710\n",
       "1                   Product_ID           3631             0.6601\n",
       "2                       Gender              2             0.0004\n",
       "3                          Age              7             0.0013\n",
       "4                   Occupation             21             0.0038\n",
       "5                City_Category              3             0.0005\n",
       "6   Stay_In_Current_City_Years              5             0.0009\n",
       "7               Marital_Status              2             0.0004\n",
       "8           Product_Category_1             20             0.0036\n",
       "9           Product_Category_2             17             0.0031\n",
       "10          Product_Category_3             15             0.0027\n",
       "11                    Purchase          18105             3.2914"
      ]
     },
     "execution_count": 8,
     "metadata": {},
     "output_type": "execute_result"
    }
   ],
   "source": [
    "unq_cnt = df.nunique().reset_index().rename(columns={'index':'Features', 0:'Unique Values'})\n",
    "unq_cnt['Unique Values PCT'] = unq_cnt['Unique Values'].apply(lambda x: (x/df.shape[0])*100)\n",
    "unq_cnt"
   ]
  },
  {
   "cell_type": "markdown",
   "id": "e206f192-1b1e-4cfb-a785-641e97c66252",
   "metadata": {},
   "source": [
    "### 3.6 Checking Any Duplicate Records"
   ]
  },
  {
   "cell_type": "code",
   "execution_count": 9,
   "id": "b5eab8f8-c8a1-4270-8c5f-addadc8e4279",
   "metadata": {},
   "outputs": [
    {
     "name": "stdout",
     "output_type": "stream",
     "text": [
      "Total No. of Duplicated Observations in the Dataset : 0\n"
     ]
    }
   ],
   "source": [
    "print(f'Total No. of Duplicated Observations in the Dataset : {df.duplicated().sum()}')"
   ]
  },
  {
   "cell_type": "markdown",
   "id": "9dcced66-5ac4-4d10-9b3a-881e8d76bcc4",
   "metadata": {},
   "source": [
    "### 3.7 Generating Statistical Summary on Numerical Columns"
   ]
  },
  {
   "cell_type": "code",
   "execution_count": 10,
   "id": "a09922d4-74e6-475d-91ed-1f96d370ed3c",
   "metadata": {},
   "outputs": [
    {
     "data": {
      "text/html": [
       "<div>\n",
       "<style scoped>\n",
       "    .dataframe tbody tr th:only-of-type {\n",
       "        vertical-align: middle;\n",
       "    }\n",
       "\n",
       "    .dataframe tbody tr th {\n",
       "        vertical-align: top;\n",
       "    }\n",
       "\n",
       "    .dataframe thead th {\n",
       "        text-align: right;\n",
       "    }\n",
       "</style>\n",
       "<table border=\"1\" class=\"dataframe\">\n",
       "  <thead>\n",
       "    <tr style=\"text-align: right;\">\n",
       "      <th></th>\n",
       "      <th>User_ID</th>\n",
       "      <th>Occupation</th>\n",
       "      <th>Marital_Status</th>\n",
       "      <th>Product_Category_1</th>\n",
       "      <th>Product_Category_2</th>\n",
       "      <th>Product_Category_3</th>\n",
       "      <th>Purchase</th>\n",
       "    </tr>\n",
       "  </thead>\n",
       "  <tbody>\n",
       "    <tr>\n",
       "      <th>count</th>\n",
       "      <td>5.5007e+05</td>\n",
       "      <td>550068.0000</td>\n",
       "      <td>550068.0000</td>\n",
       "      <td>550068.0000</td>\n",
       "      <td>376430.0000</td>\n",
       "      <td>166821.0000</td>\n",
       "      <td>550068.0000</td>\n",
       "    </tr>\n",
       "    <tr>\n",
       "      <th>mean</th>\n",
       "      <td>1.0030e+06</td>\n",
       "      <td>8.0767</td>\n",
       "      <td>0.4097</td>\n",
       "      <td>5.4043</td>\n",
       "      <td>9.8423</td>\n",
       "      <td>12.6682</td>\n",
       "      <td>9263.9687</td>\n",
       "    </tr>\n",
       "    <tr>\n",
       "      <th>std</th>\n",
       "      <td>1.7276e+03</td>\n",
       "      <td>6.5227</td>\n",
       "      <td>0.4918</td>\n",
       "      <td>3.9362</td>\n",
       "      <td>5.0866</td>\n",
       "      <td>4.1253</td>\n",
       "      <td>5023.0654</td>\n",
       "    </tr>\n",
       "    <tr>\n",
       "      <th>min</th>\n",
       "      <td>1.0000e+06</td>\n",
       "      <td>0.0000</td>\n",
       "      <td>0.0000</td>\n",
       "      <td>1.0000</td>\n",
       "      <td>2.0000</td>\n",
       "      <td>3.0000</td>\n",
       "      <td>12.0000</td>\n",
       "    </tr>\n",
       "    <tr>\n",
       "      <th>25%</th>\n",
       "      <td>1.0015e+06</td>\n",
       "      <td>2.0000</td>\n",
       "      <td>0.0000</td>\n",
       "      <td>1.0000</td>\n",
       "      <td>5.0000</td>\n",
       "      <td>9.0000</td>\n",
       "      <td>5823.0000</td>\n",
       "    </tr>\n",
       "    <tr>\n",
       "      <th>50%</th>\n",
       "      <td>1.0031e+06</td>\n",
       "      <td>7.0000</td>\n",
       "      <td>0.0000</td>\n",
       "      <td>5.0000</td>\n",
       "      <td>9.0000</td>\n",
       "      <td>14.0000</td>\n",
       "      <td>8047.0000</td>\n",
       "    </tr>\n",
       "    <tr>\n",
       "      <th>75%</th>\n",
       "      <td>1.0045e+06</td>\n",
       "      <td>14.0000</td>\n",
       "      <td>1.0000</td>\n",
       "      <td>8.0000</td>\n",
       "      <td>15.0000</td>\n",
       "      <td>16.0000</td>\n",
       "      <td>12054.0000</td>\n",
       "    </tr>\n",
       "    <tr>\n",
       "      <th>max</th>\n",
       "      <td>1.0060e+06</td>\n",
       "      <td>20.0000</td>\n",
       "      <td>1.0000</td>\n",
       "      <td>20.0000</td>\n",
       "      <td>18.0000</td>\n",
       "      <td>18.0000</td>\n",
       "      <td>23961.0000</td>\n",
       "    </tr>\n",
       "  </tbody>\n",
       "</table>\n",
       "</div>"
      ],
      "text/plain": [
       "          User_ID   Occupation  Marital_Status  Product_Category_1  \\\n",
       "count  5.5007e+05  550068.0000     550068.0000         550068.0000   \n",
       "mean   1.0030e+06       8.0767          0.4097              5.4043   \n",
       "std    1.7276e+03       6.5227          0.4918              3.9362   \n",
       "min    1.0000e+06       0.0000          0.0000              1.0000   \n",
       "25%    1.0015e+06       2.0000          0.0000              1.0000   \n",
       "50%    1.0031e+06       7.0000          0.0000              5.0000   \n",
       "75%    1.0045e+06      14.0000          1.0000              8.0000   \n",
       "max    1.0060e+06      20.0000          1.0000             20.0000   \n",
       "\n",
       "       Product_Category_2  Product_Category_3     Purchase  \n",
       "count         376430.0000         166821.0000  550068.0000  \n",
       "mean               9.8423             12.6682    9263.9687  \n",
       "std                5.0866              4.1253    5023.0654  \n",
       "min                2.0000              3.0000      12.0000  \n",
       "25%                5.0000              9.0000    5823.0000  \n",
       "50%                9.0000             14.0000    8047.0000  \n",
       "75%               15.0000             16.0000   12054.0000  \n",
       "max               18.0000             18.0000   23961.0000  "
      ]
     },
     "execution_count": 10,
     "metadata": {},
     "output_type": "execute_result"
    }
   ],
   "source": [
    "df.describe()"
   ]
  },
  {
   "cell_type": "markdown",
   "id": "ac464aa2-805d-4c0c-b072-eb87f59bb937",
   "metadata": {},
   "source": [
    "### 3.8 Features Specific to a Datatype"
   ]
  },
  {
   "cell_type": "code",
   "execution_count": 11,
   "id": "82d1983e-fa07-472f-90d7-3a133da33e14",
   "metadata": {
    "tags": []
   },
   "outputs": [
    {
     "name": "stdout",
     "output_type": "stream",
     "text": [
      "Number of Unique Data Types : 3\n",
      "Unique Data Types : [dtype('int64'), dtype('O'), dtype('float64')]\n"
     ]
    }
   ],
   "source": [
    "print(f'Number of Unique Data Types : {df.dtypes.nunique()}')\n",
    "print(f'Unique Data Types : {df.dtypes.unique().tolist()}')"
   ]
  },
  {
   "cell_type": "code",
   "execution_count": 12,
   "id": "3b1827db-b6eb-4323-9746-8c8e08359dce",
   "metadata": {},
   "outputs": [
    {
     "name": "stdout",
     "output_type": "stream",
     "text": [
      "Float Type Features    : 2 \n",
      "['Product_Category_2', 'Product_Category_3'] \n",
      "\n",
      "\n",
      "Integer Type Features  : 5 \n",
      "['User_ID', 'Occupation', 'Marital_Status', 'Product_Category_1', 'Purchase'] \n",
      "\n",
      "\n",
      "Object Type Features   : 5 \n",
      "['Product_ID', 'Gender', 'Age', 'City_Category', 'Stay_In_Current_City_Years']\n"
     ]
    }
   ],
   "source": [
    "fea_flo = df.select_dtypes(include='float64').columns.values.tolist()\n",
    "fea_int = df.select_dtypes(include='int64').columns.values.tolist()\n",
    "fea_obj = df.select_dtypes(include='object').columns.values.tolist()\n",
    "\n",
    "print(f'Float Type Features    : {len(fea_flo)} \\n{fea_flo} \\n\\n')\n",
    "print(f'Integer Type Features  : {len(fea_int)} \\n{fea_int} \\n\\n')\n",
    "print(f'Object Type Features   : {len(fea_obj)} \\n{fea_obj}')"
   ]
  },
  {
   "cell_type": "code",
   "execution_count": null,
   "id": "7a16c76c-069f-47ed-ad24-87fa1a105af3",
   "metadata": {},
   "outputs": [],
   "source": []
  }
 ],
 "metadata": {
  "kernelspec": {
   "display_name": "Python 3 (ipykernel)",
   "language": "python",
   "name": "python3"
  },
  "language_info": {
   "codemirror_mode": {
    "name": "ipython",
    "version": 3
   },
   "file_extension": ".py",
   "mimetype": "text/x-python",
   "name": "python",
   "nbconvert_exporter": "python",
   "pygments_lexer": "ipython3",
   "version": "3.10.10"
  }
 },
 "nbformat": 4,
 "nbformat_minor": 5
}
