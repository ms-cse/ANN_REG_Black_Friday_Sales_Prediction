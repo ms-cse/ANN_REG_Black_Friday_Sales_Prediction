{
 "cells": [
  {
   "cell_type": "markdown",
   "id": "75a0ba21-e186-4f12-97e0-8711764f45db",
   "metadata": {},
   "source": [
    "# ANN REGRESSION - {\"BLACK FRIDAY SALES\" DATASET} Gradio App"
   ]
  },
  {
   "cell_type": "markdown",
   "id": "35962799-8b05-4e63-bc25-ed8c3bca55a0",
   "metadata": {},
   "source": [
    "## 1. Importing Modules"
   ]
  },
  {
   "cell_type": "code",
   "execution_count": 1,
   "id": "ad956dd3-454e-478f-870b-7b63b3ed83d3",
   "metadata": {},
   "outputs": [],
   "source": [
    "import numpy as np\n",
    "import pandas as pd\n",
    "import random\n",
    "\n",
    "from pickle import dump, load\n",
    "\n",
    "from sklearn.compose import ColumnTransformer\n",
    "from sklearn.preprocessing import OrdinalEncoder, OneHotEncoder\n",
    "\n",
    "from sklearn.pipeline import Pipeline\n",
    "\n",
    "import tensorflow\n",
    "from tensorflow import keras\n",
    "from tensorflow.keras import Sequential\n",
    "from keras.layers import Dense, Dropout\n",
    "\n",
    "import gradio as gr\n",
    "\n",
    "import warnings\n",
    "warnings.filterwarnings('ignore')"
   ]
  },
  {
   "cell_type": "markdown",
   "id": "812c6698-2be8-4c02-8e8a-daf818dab8b8",
   "metadata": {},
   "source": [
    "## 2. Loading Data and Model"
   ]
  },
  {
   "cell_type": "markdown",
   "id": "7ec6fee8-cf34-43dc-b87c-7ca1cb3b9c84",
   "metadata": {},
   "source": [
    "### 2.1 Loading Xtrain and Model"
   ]
  },
  {
   "cell_type": "code",
   "execution_count": 2,
   "id": "6f09254f-d1e4-46cd-972a-b9aeb097d16e",
   "metadata": {
    "tags": []
   },
   "outputs": [
    {
     "data": {
      "text/plain": [
       "(549868, 12)"
      ]
     },
     "execution_count": 2,
     "metadata": {},
     "output_type": "execute_result"
    }
   ],
   "source": [
    "X = pd.read_pickle('bfs_train_pp.pkl')\n",
    "X.shape"
   ]
  },
  {
   "cell_type": "code",
   "execution_count": 3,
   "id": "bef5564f-7215-4d5c-8107-42474d357aa6",
   "metadata": {
    "tags": []
   },
   "outputs": [],
   "source": [
    "def rem_cols(ds):\n",
    "    cols = ['User_ID','Product_ID']\n",
    "    ds = ds.drop(columns=cols)\n",
    "    \n",
    "    return ds"
   ]
  },
  {
   "cell_type": "code",
   "execution_count": 4,
   "id": "52f06387-e3c3-4e21-81e1-54502c217ba8",
   "metadata": {},
   "outputs": [],
   "source": [
    "pipe = load(open('bfs_pipe_FE.pkl','rb'))                             # PreProcessing Pipe\n",
    "\n",
    "mdl = tensorflow.keras.models.load_model('mdl_final.keras')           # Prediction Model"
   ]
  },
  {
   "cell_type": "markdown",
   "id": "6b66d8e8-22b1-4607-b93d-dc87dea8eecf",
   "metadata": {},
   "source": [
    "### 2.2 Loading Test Data"
   ]
  },
  {
   "cell_type": "code",
   "execution_count": 5,
   "id": "b1e5f834-54e4-499a-b658-77d75e76a34d",
   "metadata": {
    "tags": []
   },
   "outputs": [
    {
     "name": "stdout",
     "output_type": "stream",
     "text": [
      "Shape of the test dataset : (100, 12)\n"
     ]
    }
   ],
   "source": [
    "te = pd.read_pickle('bfs_test_pp.pkl')\n",
    "\n",
    "print(f'Shape of the test dataset : {te.shape}')"
   ]
  },
  {
   "cell_type": "code",
   "execution_count": 6,
   "id": "f21e2fad-2eae-43f4-a3f5-ba6a88c46155",
   "metadata": {
    "tags": []
   },
   "outputs": [
    {
     "data": {
      "text/html": [
       "<div>\n",
       "<style scoped>\n",
       "    .dataframe tbody tr th:only-of-type {\n",
       "        vertical-align: middle;\n",
       "    }\n",
       "\n",
       "    .dataframe tbody tr th {\n",
       "        vertical-align: top;\n",
       "    }\n",
       "\n",
       "    .dataframe thead th {\n",
       "        text-align: right;\n",
       "    }\n",
       "</style>\n",
       "<table border=\"1\" class=\"dataframe\">\n",
       "  <thead>\n",
       "    <tr style=\"text-align: right;\">\n",
       "      <th></th>\n",
       "      <th>User_ID</th>\n",
       "      <th>Product_ID</th>\n",
       "      <th>Gender</th>\n",
       "      <th>Age</th>\n",
       "      <th>Occupation</th>\n",
       "      <th>City_Category</th>\n",
       "      <th>Stay_In_Current_City_Years</th>\n",
       "      <th>Marital_Status</th>\n",
       "      <th>Product_Category_1</th>\n",
       "      <th>Product_Category_2</th>\n",
       "      <th>Product_Category_3</th>\n",
       "      <th>Purchase</th>\n",
       "    </tr>\n",
       "  </thead>\n",
       "  <tbody>\n",
       "    <tr>\n",
       "      <th>264361</th>\n",
       "      <td>1004682</td>\n",
       "      <td>P00362042</td>\n",
       "      <td>M</td>\n",
       "      <td>26-35</td>\n",
       "      <td>7</td>\n",
       "      <td>B</td>\n",
       "      <td>3</td>\n",
       "      <td>1</td>\n",
       "      <td>5</td>\n",
       "      <td>7</td>\n",
       "      <td>14</td>\n",
       "      <td>8880</td>\n",
       "    </tr>\n",
       "    <tr>\n",
       "      <th>177205</th>\n",
       "      <td>1003441</td>\n",
       "      <td>P00157642</td>\n",
       "      <td>F</td>\n",
       "      <td>26-35</td>\n",
       "      <td>14</td>\n",
       "      <td>A</td>\n",
       "      <td>2</td>\n",
       "      <td>0</td>\n",
       "      <td>1</td>\n",
       "      <td>14</td>\n",
       "      <td>16</td>\n",
       "      <td>15173</td>\n",
       "    </tr>\n",
       "    <tr>\n",
       "      <th>542026</th>\n",
       "      <td>1005463</td>\n",
       "      <td>P00085442</td>\n",
       "      <td>M</td>\n",
       "      <td>36-45</td>\n",
       "      <td>0</td>\n",
       "      <td>B</td>\n",
       "      <td>3</td>\n",
       "      <td>1</td>\n",
       "      <td>12</td>\n",
       "      <td>14</td>\n",
       "      <td>17</td>\n",
       "      <td>1433</td>\n",
       "    </tr>\n",
       "    <tr>\n",
       "      <th>481858</th>\n",
       "      <td>1002143</td>\n",
       "      <td>P00110742</td>\n",
       "      <td>M</td>\n",
       "      <td>18-25</td>\n",
       "      <td>4</td>\n",
       "      <td>B</td>\n",
       "      <td>2</td>\n",
       "      <td>0</td>\n",
       "      <td>1</td>\n",
       "      <td>2</td>\n",
       "      <td>8</td>\n",
       "      <td>19551</td>\n",
       "    </tr>\n",
       "    <tr>\n",
       "      <th>226813</th>\n",
       "      <td>1004952</td>\n",
       "      <td>P00091142</td>\n",
       "      <td>F</td>\n",
       "      <td>26-35</td>\n",
       "      <td>14</td>\n",
       "      <td>A</td>\n",
       "      <td>1</td>\n",
       "      <td>1</td>\n",
       "      <td>8</td>\n",
       "      <td>14</td>\n",
       "      <td>17</td>\n",
       "      <td>8069</td>\n",
       "    </tr>\n",
       "  </tbody>\n",
       "</table>\n",
       "</div>"
      ],
      "text/plain": [
       "        User_ID Product_ID Gender    Age Occupation City_Category  \\\n",
       "264361  1004682  P00362042      M  26-35          7             B   \n",
       "177205  1003441  P00157642      F  26-35         14             A   \n",
       "542026  1005463  P00085442      M  36-45          0             B   \n",
       "481858  1002143  P00110742      M  18-25          4             B   \n",
       "226813  1004952  P00091142      F  26-35         14             A   \n",
       "\n",
       "       Stay_In_Current_City_Years Marital_Status Product_Category_1  \\\n",
       "264361                          3              1                  5   \n",
       "177205                          2              0                  1   \n",
       "542026                          3              1                 12   \n",
       "481858                          2              0                  1   \n",
       "226813                          1              1                  8   \n",
       "\n",
       "       Product_Category_2 Product_Category_3  Purchase  \n",
       "264361                  7                 14      8880  \n",
       "177205                 14                 16     15173  \n",
       "542026                 14                 17      1433  \n",
       "481858                  2                  8     19551  \n",
       "226813                 14                 17      8069  "
      ]
     },
     "execution_count": 6,
     "metadata": {},
     "output_type": "execute_result"
    }
   ],
   "source": [
    "te.head()"
   ]
  },
  {
   "cell_type": "markdown",
   "id": "572673d9-cd7f-4b3a-bfb2-1728a84ef318",
   "metadata": {},
   "source": [
    "### 2.3 Preparing App Samples from Test Data"
   ]
  },
  {
   "cell_type": "code",
   "execution_count": 7,
   "id": "588d9f8b-ecb7-4df1-918b-791765f405b0",
   "metadata": {
    "tags": []
   },
   "outputs": [
    {
     "name": "stdout",
     "output_type": "stream",
     "text": [
      "App Samples with Labels ...\n"
     ]
    }
   ],
   "source": [
    "Xte = te.drop(columns='Purchase')\n",
    "yte = te['Purchase']\n",
    "\n",
    "samp = Xte.sample(10).index.values.tolist()\n",
    "samp\n",
    "\n",
    "print('App Samples with Labels ...')\n",
    "te_df = pd.concat([Xte.loc[samp],yte.loc[samp]],axis=1).head(10)"
   ]
  },
  {
   "cell_type": "code",
   "execution_count": 8,
   "id": "316769ce-9235-4ffb-98c6-e584a82dd768",
   "metadata": {
    "tags": []
   },
   "outputs": [
    {
     "data": {
      "text/html": [
       "<div>\n",
       "<style scoped>\n",
       "    .dataframe tbody tr th:only-of-type {\n",
       "        vertical-align: middle;\n",
       "    }\n",
       "\n",
       "    .dataframe tbody tr th {\n",
       "        vertical-align: top;\n",
       "    }\n",
       "\n",
       "    .dataframe thead th {\n",
       "        text-align: right;\n",
       "    }\n",
       "</style>\n",
       "<table border=\"1\" class=\"dataframe\">\n",
       "  <thead>\n",
       "    <tr style=\"text-align: right;\">\n",
       "      <th></th>\n",
       "      <th>User_ID</th>\n",
       "      <th>Product_ID</th>\n",
       "      <th>Gender</th>\n",
       "      <th>Age</th>\n",
       "      <th>Occupation</th>\n",
       "      <th>City_Category</th>\n",
       "      <th>Stay_In_Current_City_Years</th>\n",
       "      <th>Marital_Status</th>\n",
       "      <th>Product_Category_1</th>\n",
       "      <th>Product_Category_2</th>\n",
       "      <th>Product_Category_3</th>\n",
       "      <th>Purchase</th>\n",
       "    </tr>\n",
       "  </thead>\n",
       "  <tbody>\n",
       "    <tr>\n",
       "      <th>548277</th>\n",
       "      <td>1003484</td>\n",
       "      <td>P00372445</td>\n",
       "      <td>M</td>\n",
       "      <td>18-25</td>\n",
       "      <td>4</td>\n",
       "      <td>C</td>\n",
       "      <td>1</td>\n",
       "      <td>0</td>\n",
       "      <td>20</td>\n",
       "      <td>8</td>\n",
       "      <td>16</td>\n",
       "      <td>605</td>\n",
       "    </tr>\n",
       "    <tr>\n",
       "      <th>91068</th>\n",
       "      <td>1001985</td>\n",
       "      <td>P00121342</td>\n",
       "      <td>M</td>\n",
       "      <td>46-50</td>\n",
       "      <td>12</td>\n",
       "      <td>A</td>\n",
       "      <td>2</td>\n",
       "      <td>1</td>\n",
       "      <td>1</td>\n",
       "      <td>5</td>\n",
       "      <td>18</td>\n",
       "      <td>15562</td>\n",
       "    </tr>\n",
       "    <tr>\n",
       "      <th>165774</th>\n",
       "      <td>1001611</td>\n",
       "      <td>P00046742</td>\n",
       "      <td>M</td>\n",
       "      <td>26-35</td>\n",
       "      <td>0</td>\n",
       "      <td>B</td>\n",
       "      <td>1</td>\n",
       "      <td>0</td>\n",
       "      <td>1</td>\n",
       "      <td>2</td>\n",
       "      <td>15</td>\n",
       "      <td>11744</td>\n",
       "    </tr>\n",
       "    <tr>\n",
       "      <th>460775</th>\n",
       "      <td>1004933</td>\n",
       "      <td>P00127642</td>\n",
       "      <td>M</td>\n",
       "      <td>26-35</td>\n",
       "      <td>15</td>\n",
       "      <td>B</td>\n",
       "      <td>3</td>\n",
       "      <td>0</td>\n",
       "      <td>1</td>\n",
       "      <td>2</td>\n",
       "      <td>15</td>\n",
       "      <td>15503</td>\n",
       "    </tr>\n",
       "    <tr>\n",
       "      <th>409579</th>\n",
       "      <td>1003067</td>\n",
       "      <td>P00268742</td>\n",
       "      <td>F</td>\n",
       "      <td>26-35</td>\n",
       "      <td>0</td>\n",
       "      <td>A</td>\n",
       "      <td>1</td>\n",
       "      <td>0</td>\n",
       "      <td>1</td>\n",
       "      <td>8</td>\n",
       "      <td>15</td>\n",
       "      <td>15872</td>\n",
       "    </tr>\n",
       "    <tr>\n",
       "      <th>96377</th>\n",
       "      <td>1002929</td>\n",
       "      <td>P00148642</td>\n",
       "      <td>M</td>\n",
       "      <td>18-25</td>\n",
       "      <td>2</td>\n",
       "      <td>A</td>\n",
       "      <td>4+</td>\n",
       "      <td>0</td>\n",
       "      <td>6</td>\n",
       "      <td>10</td>\n",
       "      <td>13</td>\n",
       "      <td>19998</td>\n",
       "    </tr>\n",
       "    <tr>\n",
       "      <th>91440</th>\n",
       "      <td>1002038</td>\n",
       "      <td>P00200242</td>\n",
       "      <td>F</td>\n",
       "      <td>46-50</td>\n",
       "      <td>1</td>\n",
       "      <td>B</td>\n",
       "      <td>3</td>\n",
       "      <td>1</td>\n",
       "      <td>8</td>\n",
       "      <td>10</td>\n",
       "      <td>16</td>\n",
       "      <td>6145</td>\n",
       "    </tr>\n",
       "    <tr>\n",
       "      <th>187733</th>\n",
       "      <td>1004979</td>\n",
       "      <td>P00101042</td>\n",
       "      <td>M</td>\n",
       "      <td>36-45</td>\n",
       "      <td>2</td>\n",
       "      <td>B</td>\n",
       "      <td>1</td>\n",
       "      <td>1</td>\n",
       "      <td>5</td>\n",
       "      <td>12</td>\n",
       "      <td>14</td>\n",
       "      <td>5202</td>\n",
       "    </tr>\n",
       "    <tr>\n",
       "      <th>511023</th>\n",
       "      <td>1000752</td>\n",
       "      <td>P00016342</td>\n",
       "      <td>F</td>\n",
       "      <td>26-35</td>\n",
       "      <td>3</td>\n",
       "      <td>A</td>\n",
       "      <td>3</td>\n",
       "      <td>0</td>\n",
       "      <td>1</td>\n",
       "      <td>2</td>\n",
       "      <td>8</td>\n",
       "      <td>4012</td>\n",
       "    </tr>\n",
       "    <tr>\n",
       "      <th>102186</th>\n",
       "      <td>1003778</td>\n",
       "      <td>P00295342</td>\n",
       "      <td>M</td>\n",
       "      <td>26-35</td>\n",
       "      <td>0</td>\n",
       "      <td>B</td>\n",
       "      <td>4+</td>\n",
       "      <td>1</td>\n",
       "      <td>2</td>\n",
       "      <td>8</td>\n",
       "      <td>15</td>\n",
       "      <td>13296</td>\n",
       "    </tr>\n",
       "  </tbody>\n",
       "</table>\n",
       "</div>"
      ],
      "text/plain": [
       "        User_ID Product_ID Gender    Age Occupation City_Category  \\\n",
       "548277  1003484  P00372445      M  18-25          4             C   \n",
       "91068   1001985  P00121342      M  46-50         12             A   \n",
       "165774  1001611  P00046742      M  26-35          0             B   \n",
       "460775  1004933  P00127642      M  26-35         15             B   \n",
       "409579  1003067  P00268742      F  26-35          0             A   \n",
       "96377   1002929  P00148642      M  18-25          2             A   \n",
       "91440   1002038  P00200242      F  46-50          1             B   \n",
       "187733  1004979  P00101042      M  36-45          2             B   \n",
       "511023  1000752  P00016342      F  26-35          3             A   \n",
       "102186  1003778  P00295342      M  26-35          0             B   \n",
       "\n",
       "       Stay_In_Current_City_Years Marital_Status Product_Category_1  \\\n",
       "548277                          1              0                 20   \n",
       "91068                           2              1                  1   \n",
       "165774                          1              0                  1   \n",
       "460775                          3              0                  1   \n",
       "409579                          1              0                  1   \n",
       "96377                          4+              0                  6   \n",
       "91440                           3              1                  8   \n",
       "187733                          1              1                  5   \n",
       "511023                          3              0                  1   \n",
       "102186                         4+              1                  2   \n",
       "\n",
       "       Product_Category_2 Product_Category_3  Purchase  \n",
       "548277                  8                 16       605  \n",
       "91068                   5                 18     15562  \n",
       "165774                  2                 15     11744  \n",
       "460775                  2                 15     15503  \n",
       "409579                  8                 15     15872  \n",
       "96377                  10                 13     19998  \n",
       "91440                  10                 16      6145  \n",
       "187733                 12                 14      5202  \n",
       "511023                  2                  8      4012  \n",
       "102186                  8                 15     13296  "
      ]
     },
     "execution_count": 8,
     "metadata": {},
     "output_type": "execute_result"
    }
   ],
   "source": [
    "te_df"
   ]
  },
  {
   "cell_type": "code",
   "execution_count": 9,
   "id": "028014d9-47b5-4ce0-94cb-6e54fbf234f0",
   "metadata": {
    "tags": []
   },
   "outputs": [
    {
     "name": "stdout",
     "output_type": "stream",
     "text": [
      "App Samples without Labels ...\n"
     ]
    }
   ],
   "source": [
    "print('App Samples without Labels ...')\n",
    "gr_samples = Xte.loc[samp].values.tolist()"
   ]
  },
  {
   "cell_type": "code",
   "execution_count": 10,
   "id": "0a7e1f20-6d70-425e-94a0-e8767741c6b5",
   "metadata": {
    "tags": []
   },
   "outputs": [
    {
     "data": {
      "text/plain": [
       "[[1003484, 'P00372445', 'M', '18-25', 4, 'C', '1', 0, 20, 8, 16],\n",
       " [1001985, 'P00121342', 'M', '46-50', 12, 'A', '2', 1, 1, 5, 18],\n",
       " [1001611, 'P00046742', 'M', '26-35', 0, 'B', '1', 0, 1, 2, 15],\n",
       " [1004933, 'P00127642', 'M', '26-35', 15, 'B', '3', 0, 1, 2, 15],\n",
       " [1003067, 'P00268742', 'F', '26-35', 0, 'A', '1', 0, 1, 8, 15],\n",
       " [1002929, 'P00148642', 'M', '18-25', 2, 'A', '4+', 0, 6, 10, 13],\n",
       " [1002038, 'P00200242', 'F', '46-50', 1, 'B', '3', 1, 8, 10, 16],\n",
       " [1004979, 'P00101042', 'M', '36-45', 2, 'B', '1', 1, 5, 12, 14],\n",
       " [1000752, 'P00016342', 'F', '26-35', 3, 'A', '3', 0, 1, 2, 8],\n",
       " [1003778, 'P00295342', 'M', '26-35', 0, 'B', '4+', 1, 2, 8, 15]]"
      ]
     },
     "execution_count": 10,
     "metadata": {},
     "output_type": "execute_result"
    }
   ],
   "source": [
    "gr_samples"
   ]
  },
  {
   "cell_type": "markdown",
   "id": "7102a810-851a-4099-90ed-5b216ade0da9",
   "metadata": {},
   "source": [
    "## 3. Gradio App Development"
   ]
  },
  {
   "cell_type": "markdown",
   "id": "434904ee-7594-442a-93fa-7da1385e52be",
   "metadata": {},
   "source": [
    "### 3.1 Gradio App Prediction Function"
   ]
  },
  {
   "cell_type": "code",
   "execution_count": 11,
   "id": "611cb88e-cac8-4044-b8d6-6d32be5df16f",
   "metadata": {},
   "outputs": [],
   "source": [
    "def bfs_prediction(uid, pid, gen, age, occ, cc, stay, ms, pc1, pc2, pc3):\n",
    "               \n",
    "    cols = ['User_ID','Product_ID','Gender','Age','Occupation','City_Category','Stay_In_Current_City_Years', \n",
    "            'Marital_Status', 'Product_Category_1', 'Product_Category_2', 'Product_Category_3']\n",
    "    \n",
    "    data = np.array([uid, pid, gen, age, occ, cc, stay, ms, pc1, pc2, pc3], dtype=object).reshape(1,11)      # input\n",
    "    data = pd.DataFrame(data=data, columns=cols, dtype='object')                                             # data\n",
    "      \n",
    "    pp = pipe.transform(data)                                                              # data preprocessing and FE\n",
    "    \n",
    "    res = mdl.predict(pp, verbose=0)[0][0]                                                 # prediction\n",
    "    \n",
    "    return f'Predicted Purchase Amount: $ {res:0.2f}'"
   ]
  },
  {
   "cell_type": "code",
   "execution_count": 12,
   "id": "dc8c6d19-d5c2-4828-9c41-c4fbe1cda66e",
   "metadata": {
    "tags": []
   },
   "outputs": [
    {
     "name": "stdout",
     "output_type": "stream",
     "text": [
      "Predicted Purchase Amount: $ 16019.96\n"
     ]
    }
   ],
   "source": [
    "res = bfs_prediction(1002929, 'P00148642', 'M', '18-25', 2, 'A', '4+', 0, 6, 10, 13)\n",
    "print(res)"
   ]
  },
  {
   "cell_type": "markdown",
   "id": "124b24f1-fed8-4e64-9609-3fb4074c90b0",
   "metadata": {},
   "source": [
    "### 3.2 Gradio App Interface for Input and Output"
   ]
  },
  {
   "cell_type": "code",
   "execution_count": 13,
   "id": "9d2056dc-6fdc-4bee-8e56-8b3b94372883",
   "metadata": {
    "tags": []
   },
   "outputs": [],
   "source": [
    "iface = gr.Interface(bfs_prediction, \n",
    "        inputs=[\n",
    "                gr.Textbox(default=None, label='User ID'), \n",
    "                gr.Textbox(default=None, label='Product ID'), \n",
    "                gr.Dropdown(X[X.columns.tolist()[0]].unique().tolist(), value=X[X.columns.tolist()[0]].unique().tolist()[0], label='Gender'),\n",
    "                gr.Dropdown(X[X.columns.tolist()[1]].unique().tolist(), value=X[X.columns.tolist()[1]].unique().tolist()[0], label='Age'),\n",
    "                gr.Dropdown(X[X.columns.tolist()[2]].unique().tolist(), value=X[X.columns.tolist()[2]].unique().tolist(), label='Occupation'),\n",
    "                gr.Dropdown(X[X.columns.tolist()[3]].unique().tolist(), value=X[X.columns.tolist()[3]].unique().tolist()[0], label='City_Category'),\n",
    "                gr.Dropdown(X[X.columns.tolist()[4]].unique().tolist(), value=X[X.columns.tolist()[4]].unique().tolist()[0], label='Stay_In_Current_City_Years'),\n",
    "                gr.Dropdown(X[X.columns.tolist()[5]].unique().tolist(), value=X[X.columns.tolist()[5]].unique().tolist()[0], label='Marital_Status'),\n",
    "                gr.Dropdown(X[X.columns.tolist()[6]].unique().tolist(), value=X[X.columns.tolist()[6]].unique().tolist(), label='Product_Category_1'),\n",
    "                gr.Dropdown(X[X.columns.tolist()[7]].unique().tolist(), value=X[X.columns.tolist()[7]].unique().tolist(), label='Product_Category_2'),\n",
    "                gr.Dropdown(X[X.columns.tolist()[8]].unique().tolist(), value=X[X.columns.tolist()[8]].unique().tolist(), label='Product_Category_3') \n",
    "               ], \n",
    "        outputs=\"text\",\n",
    "        layout='horizontal', theme='soft', \n",
    "        title='Black Friday Sales Predictor App', \n",
    "        description='Provide Details of the User and Product', \n",
    "        article='Created by: Manish Sharma',\n",
    "        examples=gr_samples) "
   ]
  },
  {
   "cell_type": "markdown",
   "id": "aefa5c17-2058-438a-b519-a054001e0962",
   "metadata": {},
   "source": [
    "### 3.3 Gradio App Launch"
   ]
  },
  {
   "cell_type": "code",
   "execution_count": 14,
   "id": "10375a13-6722-4be7-b46c-db93d1e3794f",
   "metadata": {},
   "outputs": [
    {
     "name": "stdout",
     "output_type": "stream",
     "text": [
      "Running on local URL:  http://127.0.0.1:7860\n",
      "\n",
      "To create a public link, set `share=True` in `launch()`.\n"
     ]
    },
    {
     "data": {
      "text/html": [
       "<div><iframe src=\"http://127.0.0.1:7860/\" width=\"1125\" height=\"750\" allow=\"autoplay; camera; microphone; clipboard-read; clipboard-write;\" frameborder=\"0\" allowfullscreen></iframe></div>"
      ],
      "text/plain": [
       "<IPython.core.display.HTML object>"
      ]
     },
     "metadata": {},
     "output_type": "display_data"
    },
    {
     "name": "stdout",
     "output_type": "stream",
     "text": [
      "Keyboard interruption in main thread... closing server.\n"
     ]
    },
    {
     "data": {
      "text/plain": []
     },
     "execution_count": 14,
     "metadata": {},
     "output_type": "execute_result"
    }
   ],
   "source": [
    "iface.launch(share=False, debug=True, width=1125, height=750)"
   ]
  },
  {
   "cell_type": "code",
   "execution_count": null,
   "id": "59c10bbc-c03c-40d4-88cf-0395fda3a90c",
   "metadata": {},
   "outputs": [],
   "source": []
  }
 ],
 "metadata": {
  "kernelspec": {
   "display_name": "Python 3 (ipykernel)",
   "language": "python",
   "name": "python3"
  },
  "language_info": {
   "codemirror_mode": {
    "name": "ipython",
    "version": 3
   },
   "file_extension": ".py",
   "mimetype": "text/x-python",
   "name": "python",
   "nbconvert_exporter": "python",
   "pygments_lexer": "ipython3",
   "version": "3.10.10"
  }
 },
 "nbformat": 4,
 "nbformat_minor": 5
}
