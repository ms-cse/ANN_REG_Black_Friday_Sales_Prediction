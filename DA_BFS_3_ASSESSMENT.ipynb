{
 "cells": [
  {
   "cell_type": "markdown",
   "id": "38a4ff0d-93a7-4d10-8806-11e6eae345c2",
   "metadata": {
    "toc-hr-collapsed": true
   },
   "source": [
    "# DATA ASSESSMENT PROCESS and PRE-PROCESSING - {\"BLACK FRIDAY SALES\" DATASET}"
   ]
  },
  {
   "cell_type": "markdown",
   "id": "2e3dfa24-0c75-41ac-8134-3bce0a334e74",
   "metadata": {},
   "source": [
    "# A. DATA ASSESSMENT PROCESS"
   ]
  },
  {
   "cell_type": "markdown",
   "id": "29afbdee-2c91-4cca-8485-6159b9a0fad8",
   "metadata": {
    "tags": [],
    "toc-hr-collapsed": true
   },
   "source": [
    "## 1. DATASET SUMMARY\n",
    "### - It is 'Black Friday Sales' dataset that provides the information about various features to predict the sales of products at a retail store.\n",
    "### - There are 550068 observations and 12 features in the dataset.\n",
    "### - Total 'float' type features are 2, 'integer' type features are 5, and 'object' type features are 5.\n",
    "#### - float type : ['Product_Category_2', 'Product_Category_3']\n",
    "#### - int type : ['User_ID', 'Occupation', 'Marital_Status', 'Product_Category_1', 'Purchase']\n",
    "#### - object type : ['Product_ID', 'Gender', 'Age', 'City_Category', 'Stay_In_Current_City_Years']\n",
    "### - For machine learning Applications 'Purchase' feature is the target variable (dependent) and the other 11 features are input (independent)."
   ]
  },
  {
   "cell_type": "markdown",
   "id": "059625a8-dc64-4f4f-a4e4-5f2272bef643",
   "metadata": {
    "tags": [],
    "toc-hr-collapsed": true
   },
   "source": [
    "## 2. FEATURE DESCRIPTIONS\n",
    "### Table - 'bfs' using 'bfs_train.csv'\n",
    "### * Independent Features\n",
    "#### - **'User_ID'** {integer} : ***Unique ID of the customer.***\n",
    "#### - **'Product_ID'** {object} : ***Unique ID of the product purchased.***\n",
    "#### - **'Gender'** {object} : ***Gender of the customer.***\n",
    "#### - **'Age'** {object} : ***Age of the customer in the specified ranges or bins.***\n",
    "#### - **'Occupation'** {integer} : ***Work profile of the customer. (masked)***\n",
    "#### - **'City_Category'** {object} : ***Category of the city where purchase is made.***\n",
    "#### - **'Stay_In_Current_City_Years'** {object} : ***Number of years customer staying in the city.***\n",
    "#### - **'Marital_Status'** {integer} : ***Married (1) or not (0).***\n",
    "#### - **'Product_Category_1'** {integer} : ***Main category of the product. (masked)***\n",
    "#### - **'Product_Category_2'** {float} : ***First sub-category of the product. Product may belong to other category. (masked)***\n",
    "#### - **'Product_Category_3'** {float} : ***Second sub-category of the product. Product may belong to other category .(masked)***\n",
    "\n",
    "### * Dependent Feature\n",
    "#### - **'Purchase'** {integer} : ***Purchase amount in dollars.***\n",
    "##### This feature is the target variable for Machine Learning Based Regression Type Problems."
   ]
  },
  {
   "cell_type": "markdown",
   "id": "bd4b9e42-dbc6-434b-8aba-aa6a74be9a04",
   "metadata": {
    "toc-hr-collapsed": true
   },
   "source": [
    "## 3. DATA ISSUES\n",
    "### Table - cc\n",
    "#### 1. * Dirty Data (Low quality)\n",
    "##### A. Completeness\n",
    "##### - Missing values in 'Product_Category_2' are 173638 {31.56 %}.\n",
    "##### - Missing values in 'Product_Category_3' are 383247 {69.67 %}.\n",
    "##### B. Validity\n",
    "##### - Data type of certain features can be fixed or changed.\n",
    "##### - No data duplication in the dataset.\n",
    "##### C. Accuracy\n",
    "##### - No inaccuracy issue\n",
    "##### D. Consistency\n",
    "##### - No inconsistency issue\n",
    "\n",
    "#### 2. * Messy Data (Untidy / Structural)\n",
    "##### - No messy data issue"
   ]
  },
  {
   "cell_type": "markdown",
   "id": "b7b20375-f267-4c85-9709-8df1799b58a7",
   "metadata": {
    "tags": []
   },
   "source": [
    "# B. PRE-PROCESSING / DATA CLEANING"
   ]
  },
  {
   "cell_type": "markdown",
   "id": "30ee32ab-f7e8-41cb-befe-ff7236dd24aa",
   "metadata": {},
   "source": [
    "## 1. Pre-Processing Level - I.\n",
    "\n",
    "### - Nothing to pre-process\n",
    "\n",
    "### - Splitting the dataframe into Train, Validation, and Test datasets using 'bms_train.csv', ***successful***.\n",
    "\n",
    "### - Saving the split data into CSV and PKL files, ***successful***.\n",
    "#### . Train ('bfs_train_init.csv','bfs_train_init.pkl')\n",
    "#### . Validation ('bfs_valid_init.csv','bfs_valid_init.pkl')\n",
    "#### . Test ('bfs_test_init.csv','bfs_test_init.pkl')"
   ]
  },
  {
   "cell_type": "markdown",
   "id": "2c516c8d-7826-4705-89a4-7468b0147f16",
   "metadata": {
    "tags": []
   },
   "source": [
    "## 2. Pre-Processing Level - II. (Train, Validation, and Test datasets)\n",
    "\n",
    "### - Missing value handling and imputation, ***successful***.\n",
    "### - Changing the datatype of certain features, ***successful***.\n",
    "\n",
    "### - Saving the pre-processed data into CSV and PKL files, ***successful***.\n",
    "#### . Train ('bfs_train_pp.csv','bfs_train_pp.pkl')\n",
    "#### . Validation ('bfs_valid_pp.csv','bfs_valid_pp.pkl')\n",
    "#### . Test ('bfs_test_pp.csv','bfs_test_pp.pkl')"
   ]
  },
  {
   "cell_type": "code",
   "execution_count": null,
   "id": "b76f842a-9890-43b4-994c-4c1d51eb05a7",
   "metadata": {},
   "outputs": [],
   "source": []
  }
 ],
 "metadata": {
  "kernelspec": {
   "display_name": "Python 3 (ipykernel)",
   "language": "python",
   "name": "python3"
  },
  "language_info": {
   "codemirror_mode": {
    "name": "ipython",
    "version": 3
   },
   "file_extension": ".py",
   "mimetype": "text/x-python",
   "name": "python",
   "nbconvert_exporter": "python",
   "pygments_lexer": "ipython3",
   "version": "3.10.10"
  }
 },
 "nbformat": 4,
 "nbformat_minor": 5
}
