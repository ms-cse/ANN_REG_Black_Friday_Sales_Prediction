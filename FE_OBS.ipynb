{
 "cells": [
  {
   "cell_type": "markdown",
   "id": "38a4ff0d-93a7-4d10-8806-11e6eae345c2",
   "metadata": {},
   "source": [
    "# FEATURE ENGINEERING OBSERVATIONS - {\"BLACK FRIDAY SALES\" DATASET}"
   ]
  },
  {
   "cell_type": "markdown",
   "id": "d55f8aac-c19b-4352-a3e6-94c06de87489",
   "metadata": {},
   "source": [
    "## A. Observations"
   ]
  },
  {
   "cell_type": "markdown",
   "id": "4356391f-028f-4d8a-b496-c4a7dd812f17",
   "metadata": {},
   "source": [
    "#### 1. Target variable transformation to reduce skew or scale.\n",
    "#### 2. Drop non relevant features from the dataset. (Pipeline)\n",
    "#### 3. Categorical data encoding using Ordinal Encoding Techniques. (Pipeline)\n",
    "#### 4. Categorical data encoding using One Hot Encoding. (Pipeline)\n",
    "#### 5. Feature selection to increase the performance of the model. (Pipeline) **(NOT DONE)**"
   ]
  },
  {
   "cell_type": "markdown",
   "id": "5b6fb0d0-ca24-4d2b-8e26-2f0b2d8af299",
   "metadata": {},
   "source": [
    "## B. Steps of Feature Engineering"
   ]
  },
  {
   "cell_type": "markdown",
   "id": "86d3ae0f-8221-474a-82d0-efc992c36351",
   "metadata": {},
   "source": [
    "#### 1. Target Feature Transformation.\n",
    "##### Checking various features transformations: ***Log Transformer, Quantile Transformer, and Power Transformer***.\n",
    "##### Applying Power Transformer to target feature as giving better results than other two."
   ]
  },
  {
   "cell_type": "markdown",
   "id": "dcdc00dd-c4fa-4c53-a63e-07a0f8c58dc6",
   "metadata": {},
   "source": [
    "#### 2. Drop non relevant features from the observations ['User_ID','Product_ID'], unique in the dataset (to be applied in the pipeline)."
   ]
  },
  {
   "cell_type": "markdown",
   "id": "8d69effc-b374-4970-a717-aeb269eb9759",
   "metadata": {},
   "source": [
    "#### 3. Categorical features handling using Ordinal encoding techniques (to be applied in the pipeline).\n",
    "##### Features: ['Age','City_Category','Stay_In_Current_City_Years']"
   ]
  },
  {
   "cell_type": "markdown",
   "id": "fab51f0f-01e1-4848-b125-a1baf8599245",
   "metadata": {},
   "source": [
    "#### 4. Categorical features handling using OneHot encoding techniques (to be applied in the pipeline).\n",
    "##### Features: ['Gender','Occupation','Marital_Status','Product_Category_1','Product_Category_2','Product_Category_3']"
   ]
  },
  {
   "cell_type": "markdown",
   "id": "ff2c09e2-7d3d-4413-ac01-2b8db31d3d73",
   "metadata": {},
   "source": [
    "#### 5. Feature Selection Techniques (to be applied in pipeline) **(NOT DONE)**.\n",
    "##### - Apply SelectKBest with mutual_info_regression to select the top k features for Model Building using estimators.\n",
    "##### - Treat Train, Validation, and Test dataset with feature selection strategy."
   ]
  },
  {
   "cell_type": "markdown",
   "id": "3d938dff-c558-49f8-af0c-9ba544f66505",
   "metadata": {},
   "source": [
    "## C. Saving the feature engineered train and test datasets into CSV and PKL files\n",
    "#### - Train dataset.\n",
    "##### - 'bfs_train_fe.csv'\n",
    "##### - 'bfs_train_fe.pkl'\n",
    "\n",
    "#### - Validation and Test data.\n",
    "##### - 'bfs_valid_fe.csv'\n",
    "##### - 'bfs_valid_fe.pkl'\n",
    "##### - 'bfs_test_fe.csv'\n",
    "##### - 'bfs_test_fe.pkl'"
   ]
  },
  {
   "cell_type": "code",
   "execution_count": null,
   "id": "b57f9751-2038-455a-adb3-2eec062888b1",
   "metadata": {},
   "outputs": [],
   "source": []
  }
 ],
 "metadata": {
  "kernelspec": {
   "display_name": "Python 3 (ipykernel)",
   "language": "python",
   "name": "python3"
  },
  "language_info": {
   "codemirror_mode": {
    "name": "ipython",
    "version": 3
   },
   "file_extension": ".py",
   "mimetype": "text/x-python",
   "name": "python",
   "nbconvert_exporter": "python",
   "pygments_lexer": "ipython3",
   "version": "3.10.10"
  }
 },
 "nbformat": 4,
 "nbformat_minor": 5
}
