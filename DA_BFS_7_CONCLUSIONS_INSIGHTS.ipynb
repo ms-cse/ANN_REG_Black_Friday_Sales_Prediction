{
 "cells": [
  {
   "cell_type": "markdown",
   "id": "38a4ff0d-93a7-4d10-8806-11e6eae345c2",
   "metadata": {},
   "source": [
    "# CONCLUSIONS AND INSIGHTS - {\"BLACK FRIDAY SALES\" DATASET}"
   ]
  },
  {
   "cell_type": "markdown",
   "id": "5683c1bb-e259-409e-8d8b-c17d9c5522a6",
   "metadata": {
    "tags": []
   },
   "source": [
    "## A. UNI-VARIATE EDA"
   ]
  },
  {
   "cell_type": "markdown",
   "id": "916e9edd-4be0-4e9e-a293-f248e4a3363f",
   "metadata": {
    "tags": [],
    "toc-hr-collapsed": true
   },
   "source": [
    "### a. Numeric type features"
   ]
  },
  {
   "cell_type": "markdown",
   "id": "edb78c01-3a0d-48db-988f-cd4b5250b544",
   "metadata": {},
   "source": [
    "#### 1. 'Purchase' (target feature)\n",
    "\n",
    "##### - skew = 0.6000 (moderately right/positively skewed) as between (0.5-1).\n",
    "##### - kurt = -0.3384 (platykurtic/negative kurtosis) as below 3.\n",
    "\n",
    "##### - missing values = 0 = 0.0 %\n",
    "\n",
    "##### - outliers = 2674 = 0+2674 (lb+ub) = 0.4863 %\n",
    "\n",
    "##### - more data points are available around (4000-10000) value of Purchase."
   ]
  },
  {
   "cell_type": "markdown",
   "id": "070beeef-b7ed-4fdf-9f6b-3cbc5dbbd5a1",
   "metadata": {
    "toc-hr-collapsed": true
   },
   "source": [
    "### b. Category type features"
   ]
  },
  {
   "cell_type": "markdown",
   "id": "1edd1dce-543e-45fd-b493-dfee046e6052",
   "metadata": {},
   "source": [
    "#### 1. 'User_ID'\n",
    "##### - This feature is an identifier feature for users and contains lot of categories. It will be dropped from the model building process.\n",
    "##### - Total unique values are 5891.\n",
    "##### - Mode :  User_ID: 1001680, FREQ: 1026 (Most occuring User ID or user placed most orders) "
   ]
  },
  {
   "cell_type": "markdown",
   "id": "140ac0cd-6c84-4c3d-8cb6-fe99e6d5b706",
   "metadata": {},
   "source": [
    "#### 2. 'Product_ID' \n",
    "##### - This feature is an identifier feature for products and contains lot of categories. It will be dropped from the model building process.\n",
    "##### - Total unique values are 3631.\n",
    "##### - Mode :  Product_ID: P00265242, FREQ: 1880(Most occuring Product ID or product most ordered) "
   ]
  },
  {
   "cell_type": "markdown",
   "id": "d8c87d1b-37e7-4125-aa3b-be1b3d57a1df",
   "metadata": {},
   "source": [
    "#### 3. 'Gender' \n",
    "##### - total  labels = 2 \n",
    "##### - labels = ('M','F')\n",
    "##### - mode (for label 'M') = (414113)\n",
    "\n",
    "##### - missing values = 0 = 0.0 %"
   ]
  },
  {
   "cell_type": "markdown",
   "id": "6a585130-3bdd-42cf-b096-221102f72e7b",
   "metadata": {},
   "source": [
    "#### 4. 'Age' \n",
    "##### - total  labels = 7\n",
    "##### - labels = ['26-35', '36-45', '51-55', '46-50', '55+', '18-25', '0-17']\n",
    "##### - mode (for label '26-35') = (219507)\n",
    "\n",
    "##### - missing values = 0 = 0.0 %"
   ]
  },
  {
   "cell_type": "markdown",
   "id": "9cec8218-0f4d-4aa4-a4df-e8f2721de234",
   "metadata": {},
   "source": [
    "#### 5. 'Occupation' \n",
    "##### - total  labels = 21\n",
    "##### - labels = [0, 1, 16, 4, 6, 3, 7, 5, 2, 19, 20, 17, 15, 10, 12, 9, 14, 11, 13, 18, 8]\n",
    "##### - mode (for label 4) = (72285)\n",
    "\n",
    "##### - missing values = 0 = 0.0 %"
   ]
  },
  {
   "cell_type": "markdown",
   "id": "6ea18d02-19d8-4256-8331-db55b219bf38",
   "metadata": {},
   "source": [
    "#### 6. 'City_Category' \n",
    "##### - total  labels = 3\n",
    "##### - labels = ['C', 'A', 'B']\n",
    "##### - mode (for label B) = (231082)\n",
    "\n",
    "##### - missing values = 0 = 0.0 %"
   ]
  },
  {
   "cell_type": "markdown",
   "id": "86ae528a-ced8-4b07-99c3-dc630e4c2057",
   "metadata": {},
   "source": [
    "#### 7. 'Stay_In_Current_City_Years' \n",
    "##### - total  labels = 5\n",
    "##### - labels = ['3', '1', '2', '4+', '0']\n",
    "##### - mode (for label 1) = (193754)  \n",
    "\n",
    "##### - missing values = 0 = 0.0 %"
   ]
  },
  {
   "cell_type": "markdown",
   "id": "7265a295-7b55-4ca1-8b4e-94ccf0cbb008",
   "metadata": {},
   "source": [
    "#### 8. 'Marital_Status' \n",
    "##### - total  labels = 2\n",
    "##### - labels = [0, 1]\n",
    "##### - mode (for label 0) = (324610)\n",
    "\n",
    "##### - missing values = 0 = 0.0 %"
   ]
  },
  {
   "cell_type": "markdown",
   "id": "3270927f-41bf-4ae7-bffa-ee0eab31d57d",
   "metadata": {},
   "source": [
    "#### 9. 'Product_Category_1' \n",
    "##### - total  labels = 20\n",
    "##### - labels = [8, 1, 5, 2, 11, 6, 4, 3, 7, 10, 19, 9, 14, 12, 16, 20, 15, 13, 18, 17]\n",
    "##### - mode (for label 5) = (150877)\n",
    "\n",
    "##### - missing values = 0 = 0.0 %"
   ]
  },
  {
   "cell_type": "markdown",
   "id": "213d6dda-98d8-413a-b41e-ec6765d3e98b",
   "metadata": {},
   "source": [
    "#### 10. 'Product_Category_2' \n",
    "##### - total  labels = 17\n",
    "##### - labels = [13, 15, 14, 8, 2, 9, 3, 5, 16, 6, 4, 17, 12, 11, 10, 18, 7]\n",
    "##### - mode (for label 8) = (146400) \n",
    "\n",
    "##### - missing values = 0 = 0.0 %"
   ]
  },
  {
   "cell_type": "markdown",
   "id": "a7f96a04-c1e6-4ac4-b1c2-641a6a778804",
   "metadata": {},
   "source": [
    "#### 11. 'Product_Category_3' \n",
    "##### - total  labels = 15\n",
    "##### - labels = [16, 17, 14, 15, 4, 8, 12, 9, 5, 11, 18, 3, 6, 13, 10]\n",
    "##### - mode (for label 14) = (150295)\n",
    "\n",
    "##### - missing values = 0 = 0.0 %"
   ]
  },
  {
   "cell_type": "markdown",
   "id": "de2f6c41-cad5-4c8c-a1ea-6e9e79705f70",
   "metadata": {},
   "source": [
    "## B. BI / MULTI-VARIATE EDA"
   ]
  },
  {
   "cell_type": "markdown",
   "id": "dafc0fd6-1280-43b6-9455-977598b1bf8b",
   "metadata": {
    "tags": [],
    "toc-hr-collapsed": true
   },
   "source": [
    "### a. Categorical-Numerical\n",
    "#### - Exploration of categorical features w.r.t. target feature ('Purchase')."
   ]
  },
  {
   "cell_type": "markdown",
   "id": "48b4cd07-1596-4a9b-82dd-d9738ea8dad3",
   "metadata": {
    "tags": []
   },
   "source": [
    "#### 1. y {Purchase} - x {Gender}\n",
    "##### a) Average value of 'Purchase' for label ('M') is higher than label ('F').\n",
    "##### b) Oultiers for both labels of gender exist on upper bound.\n",
    "##### c) Distibution of Purchase is nearly similar for both the labels of gender.\n",
    "##### d) Females are dominating Purchase between (0-3000, 5000-11000), whereas Males are dominating Purchase above 11000.\n",
    "##### e) Males and Females are making lot of purchases between (5000-11000).\n",
    "\n",
    "\n",
    "#### 2.  y {Purchase} - x {Age}\n",
    "##### a) Average value of 'Purchase' is higher for upper age categories (51-55, 55+).\n",
    "##### b) Oultiers exist for upper side of all age categories.\n",
    "##### c) Distibution of Purchase is nearly similar for all the labels of age.\n",
    "##### d) Most users of all ages are purchasing in the range of (5000-11000). \n",
    "\n",
    "\n",
    "#### 3.  y {Purchase} - x {Occupation}\n",
    "##### a) Average value of 'Purchase' is lower for occupation labels (9,19,20) and higher for (12,15,17).\n",
    "##### b) Oultiers exist for upper side of all occupation categories except for labels (12,17) where there are no labels.\n",
    "##### c) Distibution of Purchase is nearly similar for all the labels of occupation.\n",
    "##### d) Most users of all Occupations are purchasing in the range of (5000-11000). \n",
    "\n",
    "\n",
    "#### 4.  y {Purchase} - x {City_Category}\n",
    "##### a) Average value of 'Purchase' is higher for City_Category label (C) and lower for (A).\n",
    "##### b) Oultiers exist for upper side of all City_Category categories.\n",
    "##### c) Distibution of Purchase is nearly similar for all the labels of City_Category.\n",
    "##### d) Most users of all City_Category labels are purchasing in the range of (5000-11000). \n",
    "\n",
    "\n",
    "#### 5.  y {Purchase} - x {Stay_In_Current_City_Years}\n",
    "##### a) Average value of 'Purchase' is nearly same for all the labels of Stay_In_Current_City_Years.\n",
    "##### b) Oultiers exist for upper side of all Stay_In_Current_City_Years categories.\n",
    "##### c) Distibution of Purchase is nearly similar for all the labels of Stay_In_Current_City_Years.\n",
    "##### d) Most users of all Stay_In_Current_City_Years labels are purchasing in the range of (5000-11000). \n",
    "\n",
    "\n",
    "#### 6.  y {Purchase} - x {Marital_Status}\n",
    "##### a) Average value of 'Purchase' is nearly same for Marital_Status categories.\n",
    "##### b) Oultiers exist for upper side of all Marital_Status categories.\n",
    "##### c) Distibution of Purchase is nearly similar for all the labels of Marital_Status.\n",
    "##### d) Most users of all Marital_Status labels are purchasing in the range of (5000-11000). \n",
    "\n",
    "\n",
    "#### 7.  y {Purchase} - x {Product_Category_1}\n",
    "##### a) Average value of 'Purchase' is highest for Product_Category_1 label 17 followed by 7 and 6. Avergage value of 'Purchase' is lowest for Product_Category_1 label 19.\n",
    "##### b) Oultiers exist on lower side of only few Product_Category_1 labels and rest others do not have outliers.\n",
    "##### c) Shape of the distibution of Purchase is nearly similar for all the labels excepting few of Product_Category_1 but the range and density values are varying across the labels.\n",
    "\n",
    "\n",
    "#### 8.  y {Purchase} - x {Product_Category_2}\n",
    "##### a) Average value of 'Purchase' is highest for Product_Category_2 label 10 followed by 1 and 6. Avergage value of 'Purchase' is lowest for Product_Category_2 label 7.\n",
    "##### b) Oultiers exist for few labels on lower, upper, and both side of only few Product_Category_2 labels and rest others do not have outliers.\n",
    "##### c) Shape of the distibution of Purchase is different for all the labels of Product_Category_2 with varying range and density values.\n",
    "\n",
    "\n",
    "#### 9.  y {Purchase} - x {Product_Category_3}\n",
    "##### a) Average value of 'Purchase' is highest for Product_Category_3 label 3 followed by 10 and 8. Avergage value of 'Purchase' is lowest for Product_Category_3 label 14.\n",
    "##### b) Oultiers exist for few labels on lower, upper, and both side of only few Product_Category_3 labels and rest others do not have outliers.\n",
    "##### c) Shape of the distibution of Purchase is different for all the labels of Product_Category_3 with varying range and density values."
   ]
  },
  {
   "cell_type": "markdown",
   "id": "4b198ce9-4a66-4a56-8540-ff4182833561",
   "metadata": {
    "toc-hr-collapsed": true
   },
   "source": [
    "### c. Categorical-Categorical\n",
    "#### - Considering 'Purchase' (Target) along z-axis.\n",
    "#### - Exploration of categorical and categorical features w.r.t. target feature ('Purchase')."
   ]
  },
  {
   "cell_type": "markdown",
   "id": "8f0cd559-a344-4f19-a4fa-b4e9573f729f",
   "metadata": {},
   "source": [
    "#### 1. Gender \n",
    "##### - x {Gender} - y {Age}: Males have contributed more than females across all ages. Average highest in (51-55) and lowest in (0-17).\n",
    "##### - x {Gender} - y {Occupation}: Males on average have purchased more than females across all occupations except label 18.\n",
    "##### - x {Gender} - y {City_Category}: On average Males in all city categories have made more purchases than females. City category 'C' being the highest.\n",
    "##### - x {Gender} - y {Stay_In_Current_City_Years}: Males are doing more purchases than females across all current city stay years. Highest for 2 years.\n",
    "##### - x {Gender} - y {Marital_Status}: Males single or married are purchasing more than females on an avergae. Single males and married females are doing more purchases individually.\n",
    "##### - x {Gender} - y {Product_Category_1}: Males and Females are purchasing more or less similarly across various Product_Category_1 labels.\n",
    "##### - x {Gender} - y {Product_Category_2}: Mostly males are purchasing more than females across various Product_Category_2 labels. Highest for label 10.\n",
    "##### - x {Gender} - y {Product_Category_3}: Mostly males are purchasing more than females across various Product_Category_3 labels. Highest for label 3.\n",
    "\n",
    "\n",
    "#### 2. Age \n",
    "##### - x {Age} - y {Occupation}: Average highest purchase is for occupation 5 for age 55+ and lowest purchase is for occupation 8 and age 36-45.\n",
    "##### - x {Age} - y {City_Category}: On average city category 'C' is highest in age range 0-55 for purchases, followed by 'B' for age of 55+\n",
    "##### - x {Age} - y {Stay_In_Current_City_Years}: Users staying in city for 3 and 4+ years, and age above 36 years are making more purchases than 0,1,2 years of staying in city, and less than 35 years of age. Older users staying in city for many years are purchasing more on an average than younger users staying in city for few years.\n",
    "##### - x {Age} - y {Marital_Status}: Mostly singles across all ages are purchasing more than married, except age range 46-50.\n",
    "##### - x {Age} - y {Product_Category_1}: Product_Category_1 label 10 is giving most purchasing and label 19 is giving least purchasing across all ages.\n",
    "##### - x {Age} - y {Product_Category_2}: Product_Category_2 label 10 is giving most purchasing and label 7 is giving least purchasing across all ages.\n",
    "##### - x {Age} - y {Product_Category_3}: Product_Category_3 label 10 is giving most purchasing for age 46+, followed by label 3 upto age 45, and label 14 is giving least purchasing for age above 18, follwed by label 9 for age 0-17.\n",
    "\n",
    "\n",
    "#### 3. Occupation \n",
    "##### - x {Occupation} - y {City_Category}: label 'C': high(17), low(9); label B: high(12), low(9), label A: high(8), low(20).\n",
    "##### - x {Occupation} - y {Stay_In_Current_City_Years}: label 8: high(0 years), low(2 years).\n",
    "##### - x {Occupation} - y {Marital_Status}: 0(single): high(12), low(9); 1(married): high(17), low(2). \n",
    "##### - x {Occupation} - y {Product_Category_1}: Product_Category_1 label 10 is giving most purchasing and label 19 is giving least purchasing across all Occupation.\n",
    "##### - x {Occupation} - y {Product_Category_2}: Product_Category_2 label 10 is giving most purchasing and label 7 is giving least purchasing across all Occupation.\n",
    "##### - x {Occupation} - y {Product_Category_3}: Product_Category_3 label 10 and occupation 8 is giving most purchase, and label 9 and occupation 9 is giving least purchase.\n",
    "\n",
    "\n",
    "#### 4. City_Category \n",
    "##### - x {City_Category} - y {Stay_In_Current_City_Years}: 'C' is highest across all current stay years, followed by 'B', and 'A'.\n",
    "##### - x {City_Category} - y {Marital_Status}: Married users are making more purchase in city category 'C' followed by 'B', except singles in 'A'. \n",
    "##### - x {City_Category} - y {Product_Category_1}: Product_Category_1 label 10 is giving most purchasing and label 19 is giving least purchasing across all city category.\n",
    "##### - x {City_Category} - y {Product_Category_2}: Product_Category_2 label 10 is giving most purchasing and label 7 is giving least purchasing across all city category.\n",
    "##### - x {City_Category} - y {Product_Category_3}: Product_Category_3 label 3 is giving most purchase, and label 14 is giving least purchase across all city category.\n",
    "\n",
    "\n",
    "#### 5. Stay_In_Current_City_Years \n",
    "##### - x {Stay_In_Current_City_Years} - y {Marital_Status}: Married users staying in city for longer duration are giving more purchases than singles.\n",
    "##### - x {Stay_In_Current_City_Years} - y {Product_Category_1}: Product_Category_1 label 10 is giving most purchasing and label 19 is giving least purchasing across all current stay years.\n",
    "##### - x {Stay_In_Current_City_Years} - y {Product_Category_2}: Product_Category_2 label 10 is giving most purchasing and label 7 is giving least purchasing across all current stay years.\n",
    "##### - x {Stay_In_Current_City_Years} - y {Product_Category_3}: Product_Category_3 label 3 is giving most purchase, and label 14 is giving least purchase across all current stay years.\n",
    "\n",
    "\n",
    "#### 6. Marital_Status \n",
    "##### - x {Marital_Status} - y {Product_Category_1}: Product_Category_1 label 10 is giving most purchasing and label 19 is giving least purchasing for singles and married.\n",
    "##### - x {Marital_Status} - y {Product_Category_2}: Product_Category_2 label 10 is giving most purchasing and label 7 is giving least purchasing for singles and married.\n",
    "##### - x {Marital_Status} - y {Product_Category_3}: Product_Category_3 label 3 is giving most purchase, and label 14 is giving least purchase for singles and married."
   ]
  },
  {
   "cell_type": "markdown",
   "id": "0751bc82-e899-4e11-91a3-ba710bc5f60e",
   "metadata": {},
   "source": [
    "## C. EDA CONCLUSIONS"
   ]
  },
  {
   "cell_type": "markdown",
   "id": "39f0f873-1d17-4326-a789-69679cfab308",
   "metadata": {
    "toc-hr-collapsed": true
   },
   "source": [
    "### 1. Uni-Variate EDA conclusions"
   ]
  },
  {
   "cell_type": "markdown",
   "id": "4a5af0b3-8d72-479e-a7f2-3f94242686ba",
   "metadata": {
    "toc-hr-collapsed": true
   },
   "source": [
    "#### Numerical Features\n",
    "##### - Total numerical features: 1 ['Purchase']\n",
    "##### - This feature is the target feature for ML applications.\n",
    "##### - There are no missing values in the feature.\n",
    "\n",
    "##### - SKEWNESS:\n",
    "###### - Moderate: positive(Purchase), negative()\n",
    "\n",
    "##### - Total outliers are 2674 (0.4863) % for the feature."
   ]
  },
  {
   "cell_type": "markdown",
   "id": "cf25e529-f8c6-4ef9-a251-3003f65c0652",
   "metadata": {},
   "source": [
    "#### Categorical Features \n",
    "##### - Total categorical features: 11 ['User_ID', 'Product_ID', 'Gender', 'Age', 'Occupation', 'City_Category', 'Stay_In_Current_City_Years', 'Marital_Status', 'Product_Category_1', 'Product_Category_2', 'Product_Category_3'] \n",
    "\n",
    "##### - 'User_ID' and 'Product_ID' are the features which are identifiers for the users and products. So, will be dropped during model buidling process.\n",
    "\n",
    "##### - Features with lot of labels or categories (>=15) are ['Occupation', 'Product_Category_1', 'Product_Category_2', 'Product_Category_3'], other features have 2-6 categories."
   ]
  },
  {
   "cell_type": "markdown",
   "id": "dab2edfb-03e1-400f-b892-f9f79280cdce",
   "metadata": {
    "tags": [],
    "toc-hr-collapsed": true
   },
   "source": [
    "### 2. Bi/Multi Variate EDA conclusions"
   ]
  },
  {
   "cell_type": "markdown",
   "id": "26f3c7fb-d7cc-4dfe-8486-ff29e67d2772",
   "metadata": {},
   "source": [
    "#### Categorical-Numerical, 'Purchase' vs others\n",
    "\n",
    "##### - Outliers exist for 'Purchase' across labels of various categorical features for lower, upper, or both sides.\n",
    "\n",
    "##### - Distribution of 'Purchase' for labels of various features is nearly same, except few feature labels.\n",
    "\n",
    "##### - Males are purchasing more than females. Females are generally making more smaller purchases upto 11k and males beyond 11k. \n",
    "\n",
    "##### - Older users above (50 years) are purchasing more than younger users.\n",
    "\n",
    "##### - Occupations with higher purchase values are 12,15,17 and lower values are 9,19,20.\n",
    "\n",
    "##### - City category 'C' has higher purchase and 'A' has lower values.\n",
    "\n",
    "##### - Average 'Purchase' value is nearly same for all the labels of Stay_In_Current_City_Years.\n",
    "\n",
    "##### - Singles and married are nearly same for purchase values.\n",
    "\n",
    "##### - Average value of 'Purchase' is highest for Product_Category_1 label 17 and lowest for label 19.\n",
    "\n",
    "##### - Average value of 'Purchase' is highest for Product_Category_2 label 10 and lowest for label 7.\n",
    "\n",
    "##### - Average value of 'Purchase' is highest for Product_Category_3 label 3 and lowest for label 14."
   ]
  },
  {
   "cell_type": "markdown",
   "id": "25864d8e-02e3-4fe6-96b3-2c31fa2579cc",
   "metadata": {},
   "source": [
    "#### Categorical-Categorical\n",
    "\n",
    "##### - Males have contributed more towards purchases than females across all ages, occupations, city categories, stay in current city years, marital status, and different product categories 1,2,3 with few exceptions.\n",
    "\n",
    "##### - Older users are generally making more purchases across all occupations, city categories, stay in current city years, marital status, and various product categories 1,2,3 with few exceptions for labels.\n",
    "\n",
    "##### - Occupations contributing more or less purchases are varying across labels of city categories, stay in current city years, marital status, and various product categories 1,2,3.\n",
    "\n",
    "##### - City category 'C' is giving more purchases across labels of stay in current city years, marital status, and various product categories 1,2,3 with few exceptions.\n",
    "\n",
    "##### - Married users staying in city for longer duration are giving more purchases than singles. Users with longer stay in city are generally giving more purchases, but there are variations across labels of product categories 1,2,3.\n",
    "\n",
    "##### - Purchases for singles and married are varying across labels of product_categories 1,2,3. Generally married are contributing more for purchases."
   ]
  },
  {
   "cell_type": "code",
   "execution_count": null,
   "id": "ba1e541a-ebad-41da-9015-d1da4d01330f",
   "metadata": {},
   "outputs": [],
   "source": []
  }
 ],
 "metadata": {
  "kernelspec": {
   "display_name": "Python 3 (ipykernel)",
   "language": "python",
   "name": "python3"
  },
  "language_info": {
   "codemirror_mode": {
    "name": "ipython",
    "version": 3
   },
   "file_extension": ".py",
   "mimetype": "text/x-python",
   "name": "python",
   "nbconvert_exporter": "python",
   "pygments_lexer": "ipython3",
   "version": "3.10.10"
  }
 },
 "nbformat": 4,
 "nbformat_minor": 5
}
